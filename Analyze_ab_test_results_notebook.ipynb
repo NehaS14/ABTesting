{
 "cells": [
  {
   "cell_type": "markdown",
   "metadata": {},
   "source": [
    "## Analyze A/B Test Results\n",
    "\n",
    "This project will assure you have mastered the subjects covered in the statistics lessons.  The hope is to have this project be as comprehensive of these topics as possible.  Good luck!\n",
    "\n",
    "## Table of Contents\n",
    "- [Introduction](#intro)\n",
    "- [Part I - Probability](#probability)\n",
    "- [Part II - A/B Test](#ab_test)\n",
    "- [Part III - Regression](#regression)\n",
    "\n",
    "\n",
    "<a id='intro'></a>\n",
    "### Introduction\n",
    "\n",
    "A/B tests are very commonly performed by data analysts and data scientists.  It is important that you get some practice working with the difficulties of these \n",
    "\n",
    "For this project, you will be working to understand the results of an A/B test run by an e-commerce website.  Your goal is to work through this notebook to help the company understand if they should implement the new page, keep the old page, or perhaps run the experiment longer to make their decision.\n",
    "\n",
    "**As you work through this notebook, follow along in the classroom and answer the corresponding quiz questions associated with each question.** The labels for each classroom concept are provided for each question.  This will assure you are on the right track as you work through the project, and you can feel more confident in your final submission meeting the criteria.  As a final check, assure you meet all the criteria on the [RUBRIC](https://review.udacity.com/#!/projects/37e27304-ad47-4eb0-a1ab-8c12f60e43d0/rubric).\n",
    "\n",
    "<a id='probability'></a>\n",
    "#### Part I - Probability\n",
    "\n",
    "To get started, let's import our libraries."
   ]
  },
  {
   "cell_type": "code",
   "execution_count": 1,
   "metadata": {},
   "outputs": [],
   "source": [
    "import pandas as pd\n",
    "import numpy as np\n",
    "import random\n",
    "import matplotlib.pyplot as plt\n",
    "%matplotlib inline\n",
    "#We are setting the seed to assure you get the same answers on quizzes as we set up\n",
    "random.seed(42)"
   ]
  },
  {
   "cell_type": "markdown",
   "metadata": {},
   "source": [
    "`1.` Now, read in the `ab_data.csv` data. Store it in `df`.  **Use your dataframe to answer the questions in Quiz 1 of the classroom.**\n",
    "\n",
    "a. Read in the dataset and take a look at the top few rows here:"
   ]
  },
  {
   "cell_type": "code",
   "execution_count": 2,
   "metadata": {},
   "outputs": [],
   "source": [
    "df = pd.read_csv('ab_data.csv')"
   ]
  },
  {
   "cell_type": "code",
   "execution_count": 3,
   "metadata": {},
   "outputs": [
    {
     "data": {
      "text/html": [
       "<div>\n",
       "<style scoped>\n",
       "    .dataframe tbody tr th:only-of-type {\n",
       "        vertical-align: middle;\n",
       "    }\n",
       "\n",
       "    .dataframe tbody tr th {\n",
       "        vertical-align: top;\n",
       "    }\n",
       "\n",
       "    .dataframe thead th {\n",
       "        text-align: right;\n",
       "    }\n",
       "</style>\n",
       "<table border=\"1\" class=\"dataframe\">\n",
       "  <thead>\n",
       "    <tr style=\"text-align: right;\">\n",
       "      <th></th>\n",
       "      <th>user_id</th>\n",
       "      <th>timestamp</th>\n",
       "      <th>group</th>\n",
       "      <th>landing_page</th>\n",
       "      <th>converted</th>\n",
       "    </tr>\n",
       "  </thead>\n",
       "  <tbody>\n",
       "    <tr>\n",
       "      <th>0</th>\n",
       "      <td>851104</td>\n",
       "      <td>2017-01-21 22:11:48.556739</td>\n",
       "      <td>control</td>\n",
       "      <td>old_page</td>\n",
       "      <td>0</td>\n",
       "    </tr>\n",
       "    <tr>\n",
       "      <th>1</th>\n",
       "      <td>804228</td>\n",
       "      <td>2017-01-12 08:01:45.159739</td>\n",
       "      <td>control</td>\n",
       "      <td>old_page</td>\n",
       "      <td>0</td>\n",
       "    </tr>\n",
       "  </tbody>\n",
       "</table>\n",
       "</div>"
      ],
      "text/plain": [
       "   user_id                   timestamp    group landing_page  converted\n",
       "0   851104  2017-01-21 22:11:48.556739  control     old_page          0\n",
       "1   804228  2017-01-12 08:01:45.159739  control     old_page          0"
      ]
     },
     "execution_count": 3,
     "metadata": {},
     "output_type": "execute_result"
    }
   ],
   "source": [
    "df.head(2)"
   ]
  },
  {
   "cell_type": "markdown",
   "metadata": {},
   "source": [
    "b. Use the below cell to find the number of rows in the dataset."
   ]
  },
  {
   "cell_type": "code",
   "execution_count": 4,
   "metadata": {},
   "outputs": [
    {
     "data": {
      "text/plain": [
       "294478"
      ]
     },
     "execution_count": 4,
     "metadata": {},
     "output_type": "execute_result"
    }
   ],
   "source": [
    "df.shape[0]"
   ]
  },
  {
   "cell_type": "markdown",
   "metadata": {},
   "source": [
    "c. The number of unique users in the dataset."
   ]
  },
  {
   "cell_type": "code",
   "execution_count": 5,
   "metadata": {},
   "outputs": [
    {
     "data": {
      "text/plain": [
       "290584"
      ]
     },
     "execution_count": 5,
     "metadata": {},
     "output_type": "execute_result"
    }
   ],
   "source": [
    "df.user_id.nunique()"
   ]
  },
  {
   "cell_type": "markdown",
   "metadata": {
    "collapsed": true
   },
   "source": [
    "d. The proportion of users converted."
   ]
  },
  {
   "cell_type": "code",
   "execution_count": 6,
   "metadata": {},
   "outputs": [
    {
     "name": "stdout",
     "output_type": "stream",
     "text": [
      "<class 'pandas.core.frame.DataFrame'>\n",
      "RangeIndex: 294478 entries, 0 to 294477\n",
      "Data columns (total 5 columns):\n",
      "user_id         294478 non-null int64\n",
      "timestamp       294478 non-null object\n",
      "group           294478 non-null object\n",
      "landing_page    294478 non-null object\n",
      "converted       294478 non-null int64\n",
      "dtypes: int64(2), object(3)\n",
      "memory usage: 11.2+ MB\n"
     ]
    }
   ],
   "source": [
    "df.info()"
   ]
  },
  {
   "cell_type": "code",
   "execution_count": 7,
   "metadata": {},
   "outputs": [
    {
     "data": {
      "text/plain": [
       "0"
      ]
     },
     "execution_count": 7,
     "metadata": {},
     "output_type": "execute_result"
    }
   ],
   "source": [
    "sum(df.duplicated())"
   ]
  },
  {
   "cell_type": "code",
   "execution_count": 8,
   "metadata": {},
   "outputs": [
    {
     "data": {
      "text/plain": [
       "0.11965919355605512"
      ]
     },
     "execution_count": 8,
     "metadata": {},
     "output_type": "execute_result"
    }
   ],
   "source": [
    "df.converted.mean()"
   ]
  },
  {
   "cell_type": "markdown",
   "metadata": {
    "collapsed": true
   },
   "source": [
    "e. The number of times the `new_page` and `treatment` don't line up."
   ]
  },
  {
   "cell_type": "code",
   "execution_count": 9,
   "metadata": {},
   "outputs": [
    {
     "data": {
      "text/html": [
       "<div>\n",
       "<style scoped>\n",
       "    .dataframe tbody tr th:only-of-type {\n",
       "        vertical-align: middle;\n",
       "    }\n",
       "\n",
       "    .dataframe tbody tr th {\n",
       "        vertical-align: top;\n",
       "    }\n",
       "\n",
       "    .dataframe thead th {\n",
       "        text-align: right;\n",
       "    }\n",
       "</style>\n",
       "<table border=\"1\" class=\"dataframe\">\n",
       "  <thead>\n",
       "    <tr style=\"text-align: right;\">\n",
       "      <th></th>\n",
       "      <th>user_id</th>\n",
       "      <th>timestamp</th>\n",
       "      <th>group</th>\n",
       "      <th>landing_page</th>\n",
       "      <th>converted</th>\n",
       "      <th>control</th>\n",
       "      <th>treatment</th>\n",
       "    </tr>\n",
       "  </thead>\n",
       "  <tbody>\n",
       "    <tr>\n",
       "      <th>0</th>\n",
       "      <td>851104</td>\n",
       "      <td>2017-01-21 22:11:48.556739</td>\n",
       "      <td>control</td>\n",
       "      <td>old_page</td>\n",
       "      <td>0</td>\n",
       "      <td>1</td>\n",
       "      <td>0</td>\n",
       "    </tr>\n",
       "    <tr>\n",
       "      <th>1</th>\n",
       "      <td>804228</td>\n",
       "      <td>2017-01-12 08:01:45.159739</td>\n",
       "      <td>control</td>\n",
       "      <td>old_page</td>\n",
       "      <td>0</td>\n",
       "      <td>1</td>\n",
       "      <td>0</td>\n",
       "    </tr>\n",
       "    <tr>\n",
       "      <th>2</th>\n",
       "      <td>661590</td>\n",
       "      <td>2017-01-11 16:55:06.154213</td>\n",
       "      <td>treatment</td>\n",
       "      <td>new_page</td>\n",
       "      <td>0</td>\n",
       "      <td>0</td>\n",
       "      <td>1</td>\n",
       "    </tr>\n",
       "    <tr>\n",
       "      <th>3</th>\n",
       "      <td>853541</td>\n",
       "      <td>2017-01-08 18:28:03.143765</td>\n",
       "      <td>treatment</td>\n",
       "      <td>new_page</td>\n",
       "      <td>0</td>\n",
       "      <td>0</td>\n",
       "      <td>1</td>\n",
       "    </tr>\n",
       "    <tr>\n",
       "      <th>4</th>\n",
       "      <td>864975</td>\n",
       "      <td>2017-01-21 01:52:26.210827</td>\n",
       "      <td>control</td>\n",
       "      <td>old_page</td>\n",
       "      <td>1</td>\n",
       "      <td>1</td>\n",
       "      <td>0</td>\n",
       "    </tr>\n",
       "  </tbody>\n",
       "</table>\n",
       "</div>"
      ],
      "text/plain": [
       "   user_id                   timestamp      group landing_page  converted  \\\n",
       "0   851104  2017-01-21 22:11:48.556739    control     old_page          0   \n",
       "1   804228  2017-01-12 08:01:45.159739    control     old_page          0   \n",
       "2   661590  2017-01-11 16:55:06.154213  treatment     new_page          0   \n",
       "3   853541  2017-01-08 18:28:03.143765  treatment     new_page          0   \n",
       "4   864975  2017-01-21 01:52:26.210827    control     old_page          1   \n",
       "\n",
       "   control  treatment  \n",
       "0        1          0  \n",
       "1        1          0  \n",
       "2        0          1  \n",
       "3        0          1  \n",
       "4        1          0  "
      ]
     },
     "execution_count": 9,
     "metadata": {},
     "output_type": "execute_result"
    }
   ],
   "source": [
    "# Assigning dummy values to categorical variable group\n",
    "df[['control','treatment']]=pd.get_dummies(df['group'])\n",
    "df.head()"
   ]
  },
  {
   "cell_type": "code",
   "execution_count": 10,
   "metadata": {},
   "outputs": [
    {
     "data": {
      "text/html": [
       "<div>\n",
       "<style scoped>\n",
       "    .dataframe tbody tr th:only-of-type {\n",
       "        vertical-align: middle;\n",
       "    }\n",
       "\n",
       "    .dataframe tbody tr th {\n",
       "        vertical-align: top;\n",
       "    }\n",
       "\n",
       "    .dataframe thead th {\n",
       "        text-align: right;\n",
       "    }\n",
       "</style>\n",
       "<table border=\"1\" class=\"dataframe\">\n",
       "  <thead>\n",
       "    <tr style=\"text-align: right;\">\n",
       "      <th></th>\n",
       "      <th>user_id</th>\n",
       "      <th>timestamp</th>\n",
       "      <th>group</th>\n",
       "      <th>landing_page</th>\n",
       "      <th>converted</th>\n",
       "      <th>control</th>\n",
       "      <th>treatment</th>\n",
       "      <th>newPg</th>\n",
       "      <th>oldPg</th>\n",
       "    </tr>\n",
       "  </thead>\n",
       "  <tbody>\n",
       "    <tr>\n",
       "      <th>0</th>\n",
       "      <td>851104</td>\n",
       "      <td>2017-01-21 22:11:48.556739</td>\n",
       "      <td>control</td>\n",
       "      <td>old_page</td>\n",
       "      <td>0</td>\n",
       "      <td>1</td>\n",
       "      <td>0</td>\n",
       "      <td>0</td>\n",
       "      <td>1</td>\n",
       "    </tr>\n",
       "    <tr>\n",
       "      <th>1</th>\n",
       "      <td>804228</td>\n",
       "      <td>2017-01-12 08:01:45.159739</td>\n",
       "      <td>control</td>\n",
       "      <td>old_page</td>\n",
       "      <td>0</td>\n",
       "      <td>1</td>\n",
       "      <td>0</td>\n",
       "      <td>0</td>\n",
       "      <td>1</td>\n",
       "    </tr>\n",
       "    <tr>\n",
       "      <th>2</th>\n",
       "      <td>661590</td>\n",
       "      <td>2017-01-11 16:55:06.154213</td>\n",
       "      <td>treatment</td>\n",
       "      <td>new_page</td>\n",
       "      <td>0</td>\n",
       "      <td>0</td>\n",
       "      <td>1</td>\n",
       "      <td>1</td>\n",
       "      <td>0</td>\n",
       "    </tr>\n",
       "    <tr>\n",
       "      <th>3</th>\n",
       "      <td>853541</td>\n",
       "      <td>2017-01-08 18:28:03.143765</td>\n",
       "      <td>treatment</td>\n",
       "      <td>new_page</td>\n",
       "      <td>0</td>\n",
       "      <td>0</td>\n",
       "      <td>1</td>\n",
       "      <td>1</td>\n",
       "      <td>0</td>\n",
       "    </tr>\n",
       "    <tr>\n",
       "      <th>4</th>\n",
       "      <td>864975</td>\n",
       "      <td>2017-01-21 01:52:26.210827</td>\n",
       "      <td>control</td>\n",
       "      <td>old_page</td>\n",
       "      <td>1</td>\n",
       "      <td>1</td>\n",
       "      <td>0</td>\n",
       "      <td>0</td>\n",
       "      <td>1</td>\n",
       "    </tr>\n",
       "  </tbody>\n",
       "</table>\n",
       "</div>"
      ],
      "text/plain": [
       "   user_id                   timestamp      group landing_page  converted  \\\n",
       "0   851104  2017-01-21 22:11:48.556739    control     old_page          0   \n",
       "1   804228  2017-01-12 08:01:45.159739    control     old_page          0   \n",
       "2   661590  2017-01-11 16:55:06.154213  treatment     new_page          0   \n",
       "3   853541  2017-01-08 18:28:03.143765  treatment     new_page          0   \n",
       "4   864975  2017-01-21 01:52:26.210827    control     old_page          1   \n",
       "\n",
       "   control  treatment  newPg  oldPg  \n",
       "0        1          0      0      1  \n",
       "1        1          0      0      1  \n",
       "2        0          1      1      0  \n",
       "3        0          1      1      0  \n",
       "4        1          0      0      1  "
      ]
     },
     "execution_count": 10,
     "metadata": {},
     "output_type": "execute_result"
    }
   ],
   "source": [
    "# Assigning dummy values to categorical landing_page group\n",
    "df[['newPg','oldPg']] = pd.get_dummies(df['landing_page'])\n",
    "df.head()"
   ]
  },
  {
   "cell_type": "code",
   "execution_count": 11,
   "metadata": {},
   "outputs": [
    {
     "data": {
      "text/plain": [
       "user_id         3893\n",
       "timestamp       3893\n",
       "group           3893\n",
       "landing_page    3893\n",
       "converted       3893\n",
       "control         3893\n",
       "treatment       3893\n",
       "newPg           3893\n",
       "oldPg           3893\n",
       "dtype: int64"
      ]
     },
     "execution_count": 11,
     "metadata": {},
     "output_type": "execute_result"
    }
   ],
   "source": [
    "(df[df['newPg']!=df['treatment']]).count()"
   ]
  },
  {
   "cell_type": "markdown",
   "metadata": {},
   "source": [
    "f. Do any of the rows have missing values?"
   ]
  },
  {
   "cell_type": "code",
   "execution_count": 12,
   "metadata": {},
   "outputs": [
    {
     "data": {
      "text/plain": [
       "user_id         0\n",
       "timestamp       0\n",
       "group           0\n",
       "landing_page    0\n",
       "converted       0\n",
       "control         0\n",
       "treatment       0\n",
       "newPg           0\n",
       "oldPg           0\n",
       "dtype: int64"
      ]
     },
     "execution_count": 12,
     "metadata": {},
     "output_type": "execute_result"
    }
   ],
   "source": [
    "df.isnull().sum()"
   ]
  },
  {
   "cell_type": "markdown",
   "metadata": {},
   "source": [
    "_There are no missing values_"
   ]
  },
  {
   "cell_type": "markdown",
   "metadata": {},
   "source": [
    "`2.` For the rows where **treatment** is not aligned with **new_page** or **control** is not aligned with **old_page**, we cannot be sure if this row truly received the new or old page.  Use **Quiz 2** in the classroom to provide how we should handle these rows.  \n",
    "\n",
    "a. Now use the answer to the quiz to create a new dataset that meets the specifications from the quiz.  Store your new dataframe in **df2**."
   ]
  },
  {
   "cell_type": "code",
   "execution_count": 13,
   "metadata": {},
   "outputs": [
    {
     "data": {
      "text/html": [
       "<div>\n",
       "<style scoped>\n",
       "    .dataframe tbody tr th:only-of-type {\n",
       "        vertical-align: middle;\n",
       "    }\n",
       "\n",
       "    .dataframe tbody tr th {\n",
       "        vertical-align: top;\n",
       "    }\n",
       "\n",
       "    .dataframe thead th {\n",
       "        text-align: right;\n",
       "    }\n",
       "</style>\n",
       "<table border=\"1\" class=\"dataframe\">\n",
       "  <thead>\n",
       "    <tr style=\"text-align: right;\">\n",
       "      <th></th>\n",
       "      <th>user_id</th>\n",
       "      <th>timestamp</th>\n",
       "      <th>group</th>\n",
       "      <th>landing_page</th>\n",
       "      <th>converted</th>\n",
       "      <th>control</th>\n",
       "      <th>treatment</th>\n",
       "      <th>newPg</th>\n",
       "      <th>oldPg</th>\n",
       "    </tr>\n",
       "  </thead>\n",
       "  <tbody>\n",
       "    <tr>\n",
       "      <th>40296</th>\n",
       "      <td>817369</td>\n",
       "      <td>2017-01-03 11:12:23.016502</td>\n",
       "      <td>treatment</td>\n",
       "      <td>old_page</td>\n",
       "      <td>0</td>\n",
       "      <td>0</td>\n",
       "      <td>1</td>\n",
       "      <td>0</td>\n",
       "      <td>1</td>\n",
       "    </tr>\n",
       "    <tr>\n",
       "      <th>164957</th>\n",
       "      <td>718379</td>\n",
       "      <td>2017-01-10 17:59:23.912926</td>\n",
       "      <td>treatment</td>\n",
       "      <td>old_page</td>\n",
       "      <td>0</td>\n",
       "      <td>0</td>\n",
       "      <td>1</td>\n",
       "      <td>0</td>\n",
       "      <td>1</td>\n",
       "    </tr>\n",
       "    <tr>\n",
       "      <th>81192</th>\n",
       "      <td>904948</td>\n",
       "      <td>2017-01-13 21:58:50.227137</td>\n",
       "      <td>treatment</td>\n",
       "      <td>old_page</td>\n",
       "      <td>0</td>\n",
       "      <td>0</td>\n",
       "      <td>1</td>\n",
       "      <td>0</td>\n",
       "      <td>1</td>\n",
       "    </tr>\n",
       "  </tbody>\n",
       "</table>\n",
       "</div>"
      ],
      "text/plain": [
       "        user_id                   timestamp      group landing_page  \\\n",
       "40296    817369  2017-01-03 11:12:23.016502  treatment     old_page   \n",
       "164957   718379  2017-01-10 17:59:23.912926  treatment     old_page   \n",
       "81192    904948  2017-01-13 21:58:50.227137  treatment     old_page   \n",
       "\n",
       "        converted  control  treatment  newPg  oldPg  \n",
       "40296           0        0          1      0      1  \n",
       "164957          0        0          1      0      1  \n",
       "81192           0        0          1      0      1  "
      ]
     },
     "execution_count": 13,
     "metadata": {},
     "output_type": "execute_result"
    }
   ],
   "source": [
    "df_tn = df[df['newPg'] != df['treatment']]\n",
    "df_tn.sample(3)"
   ]
  },
  {
   "cell_type": "code",
   "execution_count": 14,
   "metadata": {},
   "outputs": [
    {
     "data": {
      "text/html": [
       "<div>\n",
       "<style scoped>\n",
       "    .dataframe tbody tr th:only-of-type {\n",
       "        vertical-align: middle;\n",
       "    }\n",
       "\n",
       "    .dataframe tbody tr th {\n",
       "        vertical-align: top;\n",
       "    }\n",
       "\n",
       "    .dataframe thead th {\n",
       "        text-align: right;\n",
       "    }\n",
       "</style>\n",
       "<table border=\"1\" class=\"dataframe\">\n",
       "  <thead>\n",
       "    <tr style=\"text-align: right;\">\n",
       "      <th></th>\n",
       "      <th>user_id</th>\n",
       "      <th>timestamp</th>\n",
       "      <th>group</th>\n",
       "      <th>landing_page</th>\n",
       "      <th>converted</th>\n",
       "      <th>control</th>\n",
       "      <th>treatment</th>\n",
       "      <th>newPg</th>\n",
       "      <th>oldPg</th>\n",
       "    </tr>\n",
       "  </thead>\n",
       "  <tbody>\n",
       "    <tr>\n",
       "      <th>217193</th>\n",
       "      <td>801459</td>\n",
       "      <td>2017-01-19 23:43:03.498135</td>\n",
       "      <td>treatment</td>\n",
       "      <td>old_page</td>\n",
       "      <td>0</td>\n",
       "      <td>0</td>\n",
       "      <td>1</td>\n",
       "      <td>0</td>\n",
       "      <td>1</td>\n",
       "    </tr>\n",
       "    <tr>\n",
       "      <th>233734</th>\n",
       "      <td>874502</td>\n",
       "      <td>2017-01-08 09:32:40.789779</td>\n",
       "      <td>treatment</td>\n",
       "      <td>old_page</td>\n",
       "      <td>0</td>\n",
       "      <td>0</td>\n",
       "      <td>1</td>\n",
       "      <td>0</td>\n",
       "      <td>1</td>\n",
       "    </tr>\n",
       "    <tr>\n",
       "      <th>199795</th>\n",
       "      <td>895216</td>\n",
       "      <td>2017-01-08 13:07:54.585634</td>\n",
       "      <td>control</td>\n",
       "      <td>new_page</td>\n",
       "      <td>0</td>\n",
       "      <td>1</td>\n",
       "      <td>0</td>\n",
       "      <td>1</td>\n",
       "      <td>0</td>\n",
       "    </tr>\n",
       "  </tbody>\n",
       "</table>\n",
       "</div>"
      ],
      "text/plain": [
       "        user_id                   timestamp      group landing_page  \\\n",
       "217193   801459  2017-01-19 23:43:03.498135  treatment     old_page   \n",
       "233734   874502  2017-01-08 09:32:40.789779  treatment     old_page   \n",
       "199795   895216  2017-01-08 13:07:54.585634    control     new_page   \n",
       "\n",
       "        converted  control  treatment  newPg  oldPg  \n",
       "217193          0        0          1      0      1  \n",
       "233734          0        0          1      0      1  \n",
       "199795          0        1          0      1      0  "
      ]
     },
     "execution_count": 14,
     "metadata": {},
     "output_type": "execute_result"
    }
   ],
   "source": [
    "df_co = df[df['oldPg'] != df['control']]\n",
    "df_co.sample(3)"
   ]
  },
  {
   "cell_type": "code",
   "execution_count": 15,
   "metadata": {},
   "outputs": [],
   "source": [
    "df_concat_index = pd.concat([df_tn,df_co]).index"
   ]
  },
  {
   "cell_type": "code",
   "execution_count": 16,
   "metadata": {},
   "outputs": [],
   "source": [
    "df2 = df.drop(df_concat_index)"
   ]
  },
  {
   "cell_type": "code",
   "execution_count": 17,
   "metadata": {},
   "outputs": [
    {
     "data": {
      "text/html": [
       "<div>\n",
       "<style scoped>\n",
       "    .dataframe tbody tr th:only-of-type {\n",
       "        vertical-align: middle;\n",
       "    }\n",
       "\n",
       "    .dataframe tbody tr th {\n",
       "        vertical-align: top;\n",
       "    }\n",
       "\n",
       "    .dataframe thead th {\n",
       "        text-align: right;\n",
       "    }\n",
       "</style>\n",
       "<table border=\"1\" class=\"dataframe\">\n",
       "  <thead>\n",
       "    <tr style=\"text-align: right;\">\n",
       "      <th></th>\n",
       "      <th>user_id</th>\n",
       "      <th>timestamp</th>\n",
       "      <th>group</th>\n",
       "      <th>landing_page</th>\n",
       "      <th>converted</th>\n",
       "      <th>control</th>\n",
       "      <th>treatment</th>\n",
       "      <th>newPg</th>\n",
       "      <th>oldPg</th>\n",
       "    </tr>\n",
       "  </thead>\n",
       "  <tbody>\n",
       "    <tr>\n",
       "      <th>11054</th>\n",
       "      <td>733308</td>\n",
       "      <td>2017-01-06 04:28:23.213939</td>\n",
       "      <td>treatment</td>\n",
       "      <td>new_page</td>\n",
       "      <td>0</td>\n",
       "      <td>0</td>\n",
       "      <td>1</td>\n",
       "      <td>1</td>\n",
       "      <td>0</td>\n",
       "    </tr>\n",
       "    <tr>\n",
       "      <th>144851</th>\n",
       "      <td>848622</td>\n",
       "      <td>2017-01-24 12:26:32.911757</td>\n",
       "      <td>treatment</td>\n",
       "      <td>new_page</td>\n",
       "      <td>0</td>\n",
       "      <td>0</td>\n",
       "      <td>1</td>\n",
       "      <td>1</td>\n",
       "      <td>0</td>\n",
       "    </tr>\n",
       "    <tr>\n",
       "      <th>168213</th>\n",
       "      <td>869418</td>\n",
       "      <td>2017-01-16 04:45:01.159204</td>\n",
       "      <td>treatment</td>\n",
       "      <td>new_page</td>\n",
       "      <td>0</td>\n",
       "      <td>0</td>\n",
       "      <td>1</td>\n",
       "      <td>1</td>\n",
       "      <td>0</td>\n",
       "    </tr>\n",
       "    <tr>\n",
       "      <th>165437</th>\n",
       "      <td>944754</td>\n",
       "      <td>2017-01-03 05:59:46.066082</td>\n",
       "      <td>control</td>\n",
       "      <td>old_page</td>\n",
       "      <td>0</td>\n",
       "      <td>1</td>\n",
       "      <td>0</td>\n",
       "      <td>0</td>\n",
       "      <td>1</td>\n",
       "    </tr>\n",
       "    <tr>\n",
       "      <th>257132</th>\n",
       "      <td>878790</td>\n",
       "      <td>2017-01-05 21:03:09.640276</td>\n",
       "      <td>control</td>\n",
       "      <td>old_page</td>\n",
       "      <td>0</td>\n",
       "      <td>1</td>\n",
       "      <td>0</td>\n",
       "      <td>0</td>\n",
       "      <td>1</td>\n",
       "    </tr>\n",
       "    <tr>\n",
       "      <th>89264</th>\n",
       "      <td>735105</td>\n",
       "      <td>2017-01-03 20:55:06.199152</td>\n",
       "      <td>control</td>\n",
       "      <td>old_page</td>\n",
       "      <td>0</td>\n",
       "      <td>1</td>\n",
       "      <td>0</td>\n",
       "      <td>0</td>\n",
       "      <td>1</td>\n",
       "    </tr>\n",
       "  </tbody>\n",
       "</table>\n",
       "</div>"
      ],
      "text/plain": [
       "        user_id                   timestamp      group landing_page  \\\n",
       "11054    733308  2017-01-06 04:28:23.213939  treatment     new_page   \n",
       "144851   848622  2017-01-24 12:26:32.911757  treatment     new_page   \n",
       "168213   869418  2017-01-16 04:45:01.159204  treatment     new_page   \n",
       "165437   944754  2017-01-03 05:59:46.066082    control     old_page   \n",
       "257132   878790  2017-01-05 21:03:09.640276    control     old_page   \n",
       "89264    735105  2017-01-03 20:55:06.199152    control     old_page   \n",
       "\n",
       "        converted  control  treatment  newPg  oldPg  \n",
       "11054           0        0          1      1      0  \n",
       "144851          0        0          1      1      0  \n",
       "168213          0        0          1      1      0  \n",
       "165437          0        1          0      0      1  \n",
       "257132          0        1          0      0      1  \n",
       "89264           0        1          0      0      1  "
      ]
     },
     "execution_count": 17,
     "metadata": {},
     "output_type": "execute_result"
    }
   ],
   "source": [
    "df2.sample(6)"
   ]
  },
  {
   "cell_type": "code",
   "execution_count": 18,
   "metadata": {},
   "outputs": [
    {
     "data": {
      "text/plain": [
       "(290585, 9)"
      ]
     },
     "execution_count": 18,
     "metadata": {},
     "output_type": "execute_result"
    }
   ],
   "source": [
    "df2.shape"
   ]
  },
  {
   "cell_type": "code",
   "execution_count": 19,
   "metadata": {},
   "outputs": [
    {
     "data": {
      "text/plain": [
       "145311"
      ]
     },
     "execution_count": 19,
     "metadata": {},
     "output_type": "execute_result"
    }
   ],
   "source": [
    "# Double Check all of the correct rows were removed - this should be 0\n",
    "df2[((df2['group'] == 'treatment') == (df2['landing_page'] == 'newPg')) == False].shape[0]"
   ]
  },
  {
   "cell_type": "markdown",
   "metadata": {},
   "source": [
    "`3.` Use **df2** and the cells below to answer questions for **Quiz3** in the classroom."
   ]
  },
  {
   "cell_type": "markdown",
   "metadata": {},
   "source": [
    "a. How many unique **user_id**s are in **df2**?"
   ]
  },
  {
   "cell_type": "code",
   "execution_count": 20,
   "metadata": {},
   "outputs": [
    {
     "data": {
      "text/plain": [
       "290584"
      ]
     },
     "execution_count": 20,
     "metadata": {},
     "output_type": "execute_result"
    }
   ],
   "source": [
    "df2.user_id.nunique()"
   ]
  },
  {
   "cell_type": "markdown",
   "metadata": {
    "collapsed": true
   },
   "source": [
    "b. There is one **user_id** repeated in **df2**.  What is it?"
   ]
  },
  {
   "cell_type": "code",
   "execution_count": 21,
   "metadata": {},
   "outputs": [
    {
     "data": {
      "text/html": [
       "<div>\n",
       "<style scoped>\n",
       "    .dataframe tbody tr th:only-of-type {\n",
       "        vertical-align: middle;\n",
       "    }\n",
       "\n",
       "    .dataframe tbody tr th {\n",
       "        vertical-align: top;\n",
       "    }\n",
       "\n",
       "    .dataframe thead th {\n",
       "        text-align: right;\n",
       "    }\n",
       "</style>\n",
       "<table border=\"1\" class=\"dataframe\">\n",
       "  <thead>\n",
       "    <tr style=\"text-align: right;\">\n",
       "      <th></th>\n",
       "      <th>user_id</th>\n",
       "      <th>timestamp</th>\n",
       "      <th>group</th>\n",
       "      <th>landing_page</th>\n",
       "      <th>converted</th>\n",
       "      <th>control</th>\n",
       "      <th>treatment</th>\n",
       "      <th>newPg</th>\n",
       "      <th>oldPg</th>\n",
       "    </tr>\n",
       "  </thead>\n",
       "  <tbody>\n",
       "    <tr>\n",
       "      <th>2893</th>\n",
       "      <td>773192</td>\n",
       "      <td>2017-01-14 02:55:59.590927</td>\n",
       "      <td>treatment</td>\n",
       "      <td>new_page</td>\n",
       "      <td>0</td>\n",
       "      <td>0</td>\n",
       "      <td>1</td>\n",
       "      <td>1</td>\n",
       "      <td>0</td>\n",
       "    </tr>\n",
       "  </tbody>\n",
       "</table>\n",
       "</div>"
      ],
      "text/plain": [
       "      user_id                   timestamp      group landing_page  converted  \\\n",
       "2893   773192  2017-01-14 02:55:59.590927  treatment     new_page          0   \n",
       "\n",
       "      control  treatment  newPg  oldPg  \n",
       "2893        0          1      1      0  "
      ]
     },
     "execution_count": 21,
     "metadata": {},
     "output_type": "execute_result"
    }
   ],
   "source": [
    "df2[df2.duplicated(subset='user_id')]"
   ]
  },
  {
   "cell_type": "markdown",
   "metadata": {},
   "source": [
    "c. What is the row information for the repeat **user_id**? "
   ]
  },
  {
   "cell_type": "code",
   "execution_count": 22,
   "metadata": {},
   "outputs": [
    {
     "data": {
      "text/plain": [
       "Int64Index([2893], dtype='int64')"
      ]
     },
     "execution_count": 22,
     "metadata": {},
     "output_type": "execute_result"
    }
   ],
   "source": [
    "df2[df2.duplicated(subset='user_id')].index"
   ]
  },
  {
   "cell_type": "markdown",
   "metadata": {},
   "source": [
    "d. Remove **one** of the rows with a duplicate **user_id**, but keep your dataframe as **df2**."
   ]
  },
  {
   "cell_type": "code",
   "execution_count": 23,
   "metadata": {},
   "outputs": [],
   "source": [
    "# Removing duplicate user id from df2\n",
    "df2.drop_duplicates(subset='user_id',inplace=True)"
   ]
  },
  {
   "cell_type": "code",
   "execution_count": 24,
   "metadata": {},
   "outputs": [
    {
     "data": {
      "text/html": [
       "<div>\n",
       "<style scoped>\n",
       "    .dataframe tbody tr th:only-of-type {\n",
       "        vertical-align: middle;\n",
       "    }\n",
       "\n",
       "    .dataframe tbody tr th {\n",
       "        vertical-align: top;\n",
       "    }\n",
       "\n",
       "    .dataframe thead th {\n",
       "        text-align: right;\n",
       "    }\n",
       "</style>\n",
       "<table border=\"1\" class=\"dataframe\">\n",
       "  <thead>\n",
       "    <tr style=\"text-align: right;\">\n",
       "      <th></th>\n",
       "      <th>user_id</th>\n",
       "      <th>timestamp</th>\n",
       "      <th>group</th>\n",
       "      <th>landing_page</th>\n",
       "      <th>converted</th>\n",
       "      <th>control</th>\n",
       "      <th>treatment</th>\n",
       "      <th>newPg</th>\n",
       "      <th>oldPg</th>\n",
       "    </tr>\n",
       "  </thead>\n",
       "  <tbody>\n",
       "  </tbody>\n",
       "</table>\n",
       "</div>"
      ],
      "text/plain": [
       "Empty DataFrame\n",
       "Columns: [user_id, timestamp, group, landing_page, converted, control, treatment, newPg, oldPg]\n",
       "Index: []"
      ]
     },
     "execution_count": 24,
     "metadata": {},
     "output_type": "execute_result"
    }
   ],
   "source": [
    "# checking duplicate row is removed from df2\n",
    "df2[df2.duplicated(subset='user_id')]"
   ]
  },
  {
   "cell_type": "markdown",
   "metadata": {},
   "source": [
    "`4.` Use **df2** in the below cells to answer the quiz questions related to **Quiz 4** in the classroom.\n",
    "\n",
    "a. What is the probability of an individual converting regardless of the page they receive?"
   ]
  },
  {
   "cell_type": "code",
   "execution_count": 25,
   "metadata": {},
   "outputs": [
    {
     "data": {
      "text/plain": [
       "0.11959708724499628"
      ]
     },
     "execution_count": 25,
     "metadata": {},
     "output_type": "execute_result"
    }
   ],
   "source": [
    "(df2['converted']==1).mean()"
   ]
  },
  {
   "cell_type": "markdown",
   "metadata": {},
   "source": [
    "b. Given that an individual was in the `control` group, what is the probability they converted?"
   ]
  },
  {
   "cell_type": "code",
   "execution_count": 26,
   "metadata": {},
   "outputs": [
    {
     "data": {
      "text/plain": [
       "0.1203863045004612"
      ]
     },
     "execution_count": 26,
     "metadata": {},
     "output_type": "execute_result"
    }
   ],
   "source": [
    "df2.query('group == \"control\"')['converted'].mean()"
   ]
  },
  {
   "cell_type": "markdown",
   "metadata": {},
   "source": [
    "c. Given that an individual was in the `treatment` group, what is the probability they converted?"
   ]
  },
  {
   "cell_type": "code",
   "execution_count": 27,
   "metadata": {},
   "outputs": [
    {
     "data": {
      "text/plain": [
       "0.11880806551510564"
      ]
     },
     "execution_count": 27,
     "metadata": {},
     "output_type": "execute_result"
    }
   ],
   "source": [
    "df2.query('group == \"treatment\"')['converted'].mean()"
   ]
  },
  {
   "cell_type": "markdown",
   "metadata": {},
   "source": [
    "d. What is the probability that an individual received the new page?"
   ]
  },
  {
   "cell_type": "code",
   "execution_count": 28,
   "metadata": {},
   "outputs": [
    {
     "data": {
      "text/plain": [
       "0.5000619442226688"
      ]
     },
     "execution_count": 28,
     "metadata": {},
     "output_type": "execute_result"
    }
   ],
   "source": [
    "df2['newPg'].mean()"
   ]
  },
  {
   "cell_type": "markdown",
   "metadata": {},
   "source": [
    "e. Consider your results from a. through d. above, and explain below whether you think there is sufficient evidence to say that the new treatment page leads to more conversions."
   ]
  },
  {
   "cell_type": "markdown",
   "metadata": {},
   "source": [
    "**No , it is not sufficient to conclude that new treatment page leads to more conversions. Since probability of conversion for both treatment and control group is almost same as we can see from 'b' and 'c' results**"
   ]
  },
  {
   "cell_type": "markdown",
   "metadata": {},
   "source": [
    "<a id='ab_test'></a>\n",
    "### Part II - A/B Test\n",
    "\n",
    "Notice that because of the time stamp associated with each event, you could technically run a hypothesis test continuously as each observation was observed.  \n",
    "\n",
    "However, then the hard question is do you stop as soon as one page is considered significantly better than another or does it need to happen consistently for a certain amount of time?  How long do you run to render a decision that neither page is better than another?  \n",
    "\n",
    "These questions are the difficult parts associated with A/B tests in general.  \n",
    "\n",
    "\n",
    "`1.` For now, consider you need to make the decision just based on all the data provided.  If you want to assume that the old page is better unless the new page proves to be definitely better at a Type I error rate of 5%, what should your null and alternative hypotheses be?  You can state your hypothesis in terms of words or in terms of **$p_{old}$** and **$p_{new}$**, which are the converted rates for the old and new pages."
   ]
  },
  {
   "cell_type": "markdown",
   "metadata": {},
   "source": [
    "`Null Hypothesis` : **$p_{new}$**-**$p_{old}$** <=0\n",
    "\n",
    "`Alternative Hypothesis` :**$p_{new}$**-**$p_{old}$** >0\n",
    "\n",
    "\n"
   ]
  },
  {
   "cell_type": "code",
   "execution_count": 29,
   "metadata": {},
   "outputs": [
    {
     "data": {
      "text/html": [
       "<div>\n",
       "<style scoped>\n",
       "    .dataframe tbody tr th:only-of-type {\n",
       "        vertical-align: middle;\n",
       "    }\n",
       "\n",
       "    .dataframe tbody tr th {\n",
       "        vertical-align: top;\n",
       "    }\n",
       "\n",
       "    .dataframe thead th {\n",
       "        text-align: right;\n",
       "    }\n",
       "</style>\n",
       "<table border=\"1\" class=\"dataframe\">\n",
       "  <thead>\n",
       "    <tr style=\"text-align: right;\">\n",
       "      <th></th>\n",
       "      <th>user_id</th>\n",
       "      <th>timestamp</th>\n",
       "      <th>group</th>\n",
       "      <th>landing_page</th>\n",
       "      <th>converted</th>\n",
       "      <th>control</th>\n",
       "      <th>treatment</th>\n",
       "      <th>newPg</th>\n",
       "      <th>oldPg</th>\n",
       "    </tr>\n",
       "  </thead>\n",
       "  <tbody>\n",
       "    <tr>\n",
       "      <th>173746</th>\n",
       "      <td>931341</td>\n",
       "      <td>2017-01-17 16:09:23.204232</td>\n",
       "      <td>control</td>\n",
       "      <td>old_page</td>\n",
       "      <td>0</td>\n",
       "      <td>1</td>\n",
       "      <td>0</td>\n",
       "      <td>0</td>\n",
       "      <td>1</td>\n",
       "    </tr>\n",
       "    <tr>\n",
       "      <th>176908</th>\n",
       "      <td>862938</td>\n",
       "      <td>2017-01-10 00:58:56.069516</td>\n",
       "      <td>control</td>\n",
       "      <td>old_page</td>\n",
       "      <td>0</td>\n",
       "      <td>1</td>\n",
       "      <td>0</td>\n",
       "      <td>0</td>\n",
       "      <td>1</td>\n",
       "    </tr>\n",
       "    <tr>\n",
       "      <th>152168</th>\n",
       "      <td>633537</td>\n",
       "      <td>2017-01-16 17:14:28.096013</td>\n",
       "      <td>treatment</td>\n",
       "      <td>new_page</td>\n",
       "      <td>0</td>\n",
       "      <td>0</td>\n",
       "      <td>1</td>\n",
       "      <td>1</td>\n",
       "      <td>0</td>\n",
       "    </tr>\n",
       "    <tr>\n",
       "      <th>292321</th>\n",
       "      <td>693502</td>\n",
       "      <td>2017-01-14 02:57:56.556587</td>\n",
       "      <td>treatment</td>\n",
       "      <td>new_page</td>\n",
       "      <td>0</td>\n",
       "      <td>0</td>\n",
       "      <td>1</td>\n",
       "      <td>1</td>\n",
       "      <td>0</td>\n",
       "    </tr>\n",
       "    <tr>\n",
       "      <th>40328</th>\n",
       "      <td>711477</td>\n",
       "      <td>2017-01-03 06:08:38.931971</td>\n",
       "      <td>control</td>\n",
       "      <td>old_page</td>\n",
       "      <td>0</td>\n",
       "      <td>1</td>\n",
       "      <td>0</td>\n",
       "      <td>0</td>\n",
       "      <td>1</td>\n",
       "    </tr>\n",
       "  </tbody>\n",
       "</table>\n",
       "</div>"
      ],
      "text/plain": [
       "        user_id                   timestamp      group landing_page  \\\n",
       "173746   931341  2017-01-17 16:09:23.204232    control     old_page   \n",
       "176908   862938  2017-01-10 00:58:56.069516    control     old_page   \n",
       "152168   633537  2017-01-16 17:14:28.096013  treatment     new_page   \n",
       "292321   693502  2017-01-14 02:57:56.556587  treatment     new_page   \n",
       "40328    711477  2017-01-03 06:08:38.931971    control     old_page   \n",
       "\n",
       "        converted  control  treatment  newPg  oldPg  \n",
       "173746          0        1          0      0      1  \n",
       "176908          0        1          0      0      1  \n",
       "152168          0        0          1      1      0  \n",
       "292321          0        0          1      1      0  \n",
       "40328           0        1          0      0      1  "
      ]
     },
     "execution_count": 29,
     "metadata": {},
     "output_type": "execute_result"
    }
   ],
   "source": [
    "df.sample(5)"
   ]
  },
  {
   "cell_type": "markdown",
   "metadata": {},
   "source": [
    "`2.` Assume under the null hypothesis, $p_{new}$ and $p_{old}$ both have \"true\" success rates equal to the **converted** success rate regardless of page - that is $p_{new}$ and $p_{old}$ are equal. Furthermore, assume they are equal to the **converted** rate in **ab_data.csv** regardless of the page. <br><br>\n",
    "\n",
    "Use a sample size for each page equal to the ones in **ab_data.csv**.  <br><br>\n",
    "\n",
    "Perform the sampling distribution for the difference in **converted** between the two pages over 10,000 iterations of calculating an estimate from the null.  <br><br>\n",
    "\n",
    "Use the cells below to provide the necessary parts of this simulation.  If this doesn't make complete sense right now, don't worry - you are going to work through the problems below to complete this problem.  You can use **Quiz 5** in the classroom to make sure you are on the right track.<br><br>"
   ]
  },
  {
   "cell_type": "markdown",
   "metadata": {},
   "source": [
    "a. What is the **convert rate** for $p_{new}$ under the null? "
   ]
  },
  {
   "cell_type": "code",
   "execution_count": 30,
   "metadata": {},
   "outputs": [
    {
     "data": {
      "text/plain": [
       "0.11959708724499628"
      ]
     },
     "execution_count": 30,
     "metadata": {},
     "output_type": "execute_result"
    }
   ],
   "source": [
    "p_new = df2.converted.mean()\n",
    "p_new"
   ]
  },
  {
   "cell_type": "markdown",
   "metadata": {},
   "source": [
    "b. What is the **convert rate** for $p_{old}$ under the null? <br><br>"
   ]
  },
  {
   "cell_type": "code",
   "execution_count": 31,
   "metadata": {},
   "outputs": [
    {
     "data": {
      "text/plain": [
       "0.11959708724499628"
      ]
     },
     "execution_count": 31,
     "metadata": {},
     "output_type": "execute_result"
    }
   ],
   "source": [
    "p_old = df2.converted.mean()\n",
    "p_old"
   ]
  },
  {
   "cell_type": "markdown",
   "metadata": {},
   "source": [
    "c. What is $n_{new}$?"
   ]
  },
  {
   "cell_type": "code",
   "execution_count": 32,
   "metadata": {},
   "outputs": [
    {
     "data": {
      "text/plain": [
       "145310"
      ]
     },
     "execution_count": 32,
     "metadata": {},
     "output_type": "execute_result"
    }
   ],
   "source": [
    "# Users using new page\n",
    "n_new = df2.query('newPg == 1').count()[0]\n",
    "n_new"
   ]
  },
  {
   "cell_type": "markdown",
   "metadata": {},
   "source": [
    "d. What is $n_{old}$?"
   ]
  },
  {
   "cell_type": "code",
   "execution_count": 33,
   "metadata": {},
   "outputs": [
    {
     "data": {
      "text/plain": [
       "145274"
      ]
     },
     "execution_count": 33,
     "metadata": {},
     "output_type": "execute_result"
    }
   ],
   "source": [
    "# Users using old page\n",
    "n_old = df2.query('oldPg == 1').count()[0]\n",
    "n_old"
   ]
  },
  {
   "cell_type": "markdown",
   "metadata": {},
   "source": [
    "e. Simulate $n_{new}$ transactions with a convert rate of $p_{new}$ under the null.  Store these $n_{new}$ 1's and 0's in **new_page_converted**."
   ]
  },
  {
   "cell_type": "code",
   "execution_count": 34,
   "metadata": {},
   "outputs": [
    {
     "data": {
      "text/plain": [
       "array([0, 0, 0, ..., 0, 0, 0])"
      ]
     },
     "execution_count": 34,
     "metadata": {},
     "output_type": "execute_result"
    }
   ],
   "source": [
    "new_page_converted = np.random.binomial(1,p_new,n_new)\n",
    "new_page_converted"
   ]
  },
  {
   "cell_type": "markdown",
   "metadata": {},
   "source": [
    "f. Simulate $n_{old}$ transactions with a convert rate of $p_{old}$ under the null.  Store these $n_{old}$ 1's and 0's in **old_page_converted**."
   ]
  },
  {
   "cell_type": "code",
   "execution_count": 35,
   "metadata": {},
   "outputs": [
    {
     "data": {
      "text/plain": [
       "array([0, 0, 0, ..., 0, 0, 0])"
      ]
     },
     "execution_count": 35,
     "metadata": {},
     "output_type": "execute_result"
    }
   ],
   "source": [
    "old_page_converted = np.random.binomial(1,p_old,n_old)\n",
    "old_page_converted"
   ]
  },
  {
   "cell_type": "markdown",
   "metadata": {},
   "source": [
    "g. Find $p_{new}$ - $p_{old}$ for your simulated values from part (e) and (f)."
   ]
  },
  {
   "cell_type": "code",
   "execution_count": 36,
   "metadata": {},
   "outputs": [
    {
     "data": {
      "text/plain": [
       "-0.000951829641737359"
      ]
     },
     "execution_count": 36,
     "metadata": {},
     "output_type": "execute_result"
    }
   ],
   "source": [
    "diff = new_page_converted.mean()-old_page_converted.mean()\n",
    "diff"
   ]
  },
  {
   "cell_type": "markdown",
   "metadata": {},
   "source": [
    "h. Simulate 10,000 $p_{new}$ - $p_{old}$ values using this same process similarly to the one you calculated in parts **a. through g.** above.  Store all 10,000 values in a numpy array called **p_diffs**."
   ]
  },
  {
   "cell_type": "code",
   "execution_count": 37,
   "metadata": {},
   "outputs": [
    {
     "data": {
      "text/plain": [
       "[0.0005829176229567301,\n",
       " 0.0012022046703093203,\n",
       " -0.0020255039372314293,\n",
       " -0.00037381657362973997,\n",
       " 0.002186631643279688,\n",
       " -0.001660955775663886,\n",
       " -0.0006217060226536009,\n",
       " -0.0007451749484047032,\n",
       " -0.0014887716698564063,\n",
       " 3.9144917167416304e-05,\n",
       " -5.721617476239782e-05,\n",
       " 0.0006932402156819145,\n",
       " -0.001227140713012595,\n",
       " 0.0020215766552254127,\n",
       " 0.00037662787921123597,\n",
       " 0.0004315683299124379,\n",
       " 1.1687482106087499e-05,\n",
       " -2.9811606230042975e-05,\n",
       " -0.0007043256067634784,\n",
       " 0.0006170658951922953,\n",
       " 0.00018367376477286534,\n",
       " -0.001123909719858776,\n",
       " -0.00018774259264679738,\n",
       " -3.644787150339224e-05,\n",
       " 0.0011542500861215221,\n",
       " -0.0016058942435576012,\n",
       " -0.002562495421135666,\n",
       " -0.001103352882715708,\n",
       " 0.0018495255684263384,\n",
       " -0.0010068024945047022,\n",
       " 0.0007134491569568274,\n",
       " -4.372194586833855e-05,\n",
       " 0.001966407684689253,\n",
       " 0.0007757472452462055,\n",
       " 0.0025651344841549906,\n",
       " -9.140367055171517e-05,\n",
       " -0.0009656410698053036,\n",
       " 6.001042662485967e-05,\n",
       " 0.00042448014108488474,\n",
       " -0.0031061811529579236,\n",
       " 0.0010785174569546835,\n",
       " 0.0006587679227848392,\n",
       " -0.0014748817946809434,\n",
       " 0.0008994719767826953,\n",
       " -0.0006695736328743707,\n",
       " 0.0005691675882772695,\n",
       " 0.00016963552224187606,\n",
       " 0.0011058452837514193,\n",
       " 0.001532647193938863,\n",
       " -0.0011444716731175558,\n",
       " -0.0019361542923935632,\n",
       " -0.0023694270467797957,\n",
       " -6.390360119282179e-05,\n",
       " -0.003250940225770216,\n",
       " 0.000582747085766458,\n",
       " 0.00010092968851409256,\n",
       " -0.0010343741894835168,\n",
       " -0.001144718952043433,\n",
       " 0.00142258040699908,\n",
       " 0.0009202999680582857,\n",
       " 0.0011955973963583139,\n",
       " 0.0012848907639234075,\n",
       " 0.0012782272126996008,\n",
       " 0.001883753993141335,\n",
       " 0.0021108563798152846,\n",
       " 0.0012506145887951348,\n",
       " -0.0005116392357138316,\n",
       " -0.0012753221116634517,\n",
       " -0.000470053173410645,\n",
       " 0.0012022831174168386,\n",
       " 0.0006725844669684816,\n",
       " 0.002393074870496406,\n",
       " 0.000899738014799506,\n",
       " 0.0010302473789648992,\n",
       " 0.0009822757410580668,\n",
       " 0.0011400464225159723,\n",
       " -0.001585206092778027,\n",
       " 5.3060372921423515e-05,\n",
       " -0.0003395318716419571,\n",
       " -0.0005940951041210341,\n",
       " -0.00044282425818427396,\n",
       " 0.0005622397044085653,\n",
       " 0.0005759266403276148,\n",
       " 0.00014251745618916456,\n",
       " -0.0015094547045202689,\n",
       " -2.9671765734026745e-05,\n",
       " 0.001112967580017013,\n",
       " -0.00018783979884524904,\n",
       " -0.00033907483197205546,\n",
       " -0.0008283300192920146,\n",
       " 0.0002457552708306082,\n",
       " -0.00040119726695544977,\n",
       " -0.00013273563244139974,\n",
       " -0.0006421400730196869,\n",
       " -0.001055237993569047,\n",
       " -0.0009656717664995457,\n",
       " -0.0012203970093093847,\n",
       " -0.0004838339047843476,\n",
       " -0.00016038236378392023,\n",
       " 0.00037634990359111664,\n",
       " 0.0006721223111828684,\n",
       " 0.0007686931638567207,\n",
       " 0.0008375047306424382,\n",
       " 0.00022516603162138493,\n",
       " 0.002096998906705977,\n",
       " -0.0005388374542459468,\n",
       " 0.0026405925484454945,\n",
       " -0.0010346504597317507,\n",
       " 0.0025102537214703874,\n",
       " -0.001440701120379223,\n",
       " 0.001498154436578955,\n",
       " 0.0004657148967761038,\n",
       " 0.0006725827615965962,\n",
       " -0.0009108268166248962,\n",
       " 0.00018367035402905296,\n",
       " -0.0003050203551911296,\n",
       " 0.0005621407928382144,\n",
       " 0.0005693006072856888,\n",
       " -0.00011904869652235028,\n",
       " -0.0017983384517970963,\n",
       " 0.0016978863621586043,\n",
       " -0.0008692288167184148,\n",
       " -0.0004906765200579227,\n",
       " -0.0018604387169457448,\n",
       " 0.0009958757030100879,\n",
       " 5.302967622716759e-05,\n",
       " -0.001674647827698647,\n",
       " -0.002025725635578776,\n",
       " -0.0007385898442884287,\n",
       " 0.002544451449491128,\n",
       " -0.0008623401564034766,\n",
       " 0.0008239746889384392,\n",
       " 0.00026646900218871283,\n",
       " -0.0015437581655989713,\n",
       " 0.0020557436865519113,\n",
       " 0.0011887309058780937,\n",
       " -0.0019222490688709792,\n",
       " 0.0005415293837942731,\n",
       " 0.00045895584472577244,\n",
       " 0.0005280078689497703,\n",
       " 0.0009339391535640729,\n",
       " 0.0010577559751833027,\n",
       " 0.0010028905608458205,\n",
       " 0.0016429100986474487,\n",
       " 0.0018422344403423718,\n",
       " 0.0013744535802491104,\n",
       " -0.0006561356812531255,\n",
       " 0.00101639331659939,\n",
       " -0.001337106883010128,\n",
       " -0.0011584689867228798,\n",
       " -0.0006625826502452831,\n",
       " -0.00029111513166854563,\n",
       " -0.0003395148179229368,\n",
       " -0.0009934191147843302,\n",
       " -0.0004357326586129223,\n",
       " 0.0036938072129949623,\n",
       " 0.00010131680793599995,\n",
       " -0.001076002886084254,\n",
       " -0.0030167991060539023,\n",
       " 7.36308530397134e-05,\n",
       " 0.0007823971534947766,\n",
       " 0.0024964405880305296,\n",
       " -0.00016737164104112245,\n",
       " 0.001140257888631896,\n",
       " -0.0003945541801944896,\n",
       " 8.055532616460526e-05,\n",
       " -0.001805561365004954,\n",
       " 0.0016497936428466892,\n",
       " 0.000335278863602545,\n",
       " 0.0018563750051875244,\n",
       " -0.0021630315699763536,\n",
       " -0.0009522662169444418,\n",
       " 0.0005622976870532648,\n",
       " -0.0008763204162897664,\n",
       " -0.001412858271267886,\n",
       " 0.0008374859715515187,\n",
       " -0.0009790994858893953,\n",
       " -0.0027825931822052785,\n",
       " -0.0005666137938530741,\n",
       " 0.0010718061553176145,\n",
       " -0.0014890939851460033,\n",
       " 0.0018494402998312093,\n",
       " -0.00046331458582314633,\n",
       " -0.002108230959771168,\n",
       " 0.0006655013942566401,\n",
       " -0.0001880273897545276,\n",
       " -0.0011445194235308181,\n",
       " -0.0017228991465975119,\n",
       " 0.0032809395176524453,\n",
       " 0.0006036671671247884,\n",
       " 0.0008375524810557144,\n",
       " 0.0012643032300860835,\n",
       " -0.0020944365854222574,\n",
       " -0.0014334048761795448,\n",
       " -0.0016400408104212671,\n",
       " 1.171135731273254e-05,\n",
       " -0.0017777423911002621,\n",
       " 0.001917909086864511,\n",
       " -0.0008279906502833834,\n",
       " 0.0017326468629072223,\n",
       " -0.0006697151787423,\n",
       " 0.001202446833119486,\n",
       " 0.000424781991911663,\n",
       " 0.00015634764334802875,\n",
       " 0.0015669301905547467,\n",
       " 0.0005551941498785906,\n",
       " -0.00011225212629013825,\n",
       " -0.0004425002375227777,\n",
       " -0.0014476136559008063,\n",
       " -0.0018743064222864758,\n",
       " -0.0016403545988513402,\n",
       " 0.0025858362779097865,\n",
       " -0.0008140530246946581,\n",
       " -1.8800777797783885e-06,\n",
       " 0.0010166116042029244,\n",
       " -2.9496112428042953e-05,\n",
       " -0.001124054676470504,\n",
       " -0.0009658081962517634,\n",
       " 0.0003900862952953277,\n",
       " 0.0005004992727313529,\n",
       " -0.0005044725997787464,\n",
       " 0.0006380456645672106,\n",
       " 5.966764687242998e-05,\n",
       " 0.0008581758277029922,\n",
       " 0.0011748222716117113,\n",
       " -0.0013167239938011444,\n",
       " 0.0006860224185897545,\n",
       " -0.0022182636392729105,\n",
       " 0.0013676416616697773,\n",
       " 0.0005553305796307945,\n",
       " -0.0014267362088400404,\n",
       " -0.0005458403744783707,\n",
       " 0.0004659996938838479,\n",
       " -0.00011250963744742493,\n",
       " 0.001766732036382404,\n",
       " 0.0009338931085226959,\n",
       " 0.0012502530499517717,\n",
       " 0.0007688330043527231,\n",
       " 0.0009202164048350558,\n",
       " 0.0007138294548911239,\n",
       " 0.0015050448022658064,\n",
       " -7.775425281453252e-05,\n",
       " -0.00051122653571338,\n",
       " -0.00043568661357154537,\n",
       " -0.000676564615503486,\n",
       " 0.0003691986160031524,\n",
       " -0.0017365366267313859,\n",
       " 0.0023516508185239954,\n",
       " 0.0005761039990054978,\n",
       " -0.0013924310423894387,\n",
       " -0.00040129106241008905,\n",
       " 0.0017120797935327448,\n",
       " -0.0005664893017041928,\n",
       " -0.00018103470175352687,\n",
       " -0.0003119004886465576,\n",
       " -0.0007728353227224594,\n",
       " 0.00101630975337616,\n",
       " 0.0005553374011184053,\n",
       " -0.0019706623981005783,\n",
       " -4.334164793404205e-05,\n",
       " 0.00037663811144265924,\n",
       " -0.0016951006371556526,\n",
       " -0.0009036397162269783,\n",
       " -0.0016264033302873931,\n",
       " 0.0017944538040886304,\n",
       " -0.0005180827939621768,\n",
       " 0.0008721356231264632,\n",
       " -0.0014613210562826884,\n",
       " -0.0012203629018713302,\n",
       " -0.0005594539794056136,\n",
       " -0.00183971645872813,\n",
       " -0.0018054198191370247,\n",
       " -0.0008418907576902696,\n",
       " 0.0010167650876741624,\n",
       " 0.00028020198314913924,\n",
       " 0.0002731615447348623,\n",
       " -0.00018793018355607594,\n",
       " -0.0014954079351297694,\n",
       " -0.0014337937009733376,\n",
       " -0.0010897802067141305,\n",
       " -0.000683482267140767,\n",
       " 0.0021519888131923404,\n",
       " -8.476228916265427e-05,\n",
       " -0.0007939412896181691,\n",
       " -0.0009177240037993445,\n",
       " -0.0011307489243885388,\n",
       " 0.0011402749423509162,\n",
       " -0.0006424623883092839,\n",
       " 0.0005074697908976356,\n",
       " 0.0014088883549643189,\n",
       " 0.0008101427964076618,\n",
       " -1.9022476145102996e-06,\n",
       " 0.0007891545001732364,\n",
       " 0.00012860541117896973,\n",
       " -0.0006561868424102002,\n",
       " 9.423885133985621e-05,\n",
       " 0.0015327750968315568,\n",
       " 0.001511899355142704,\n",
       " -0.0007315204145518089,\n",
       " 0.00012864292936082267,\n",
       " -0.0006903948026623502,\n",
       " -7.790432554195814e-05,\n",
       " -0.002789698424751852,\n",
       " -0.0017917073026394448,\n",
       " -0.0004428293742999856,\n",
       " -0.00041511442808135623,\n",
       " -0.0005250260261780021,\n",
       " 0.0001698555152173098,\n",
       " 0.0005346339019917101,\n",
       " -0.0003945098405250258,\n",
       " -0.00101384975440659,\n",
       " -0.00011895660643959638,\n",
       " -0.00014659310555070748,\n",
       " -0.002404330798768242,\n",
       " 0.0002802360905871798,\n",
       " 0.00035604205074582507,\n",
       " 0.0010716594933339874,\n",
       " 0.002055888643163639,\n",
       " -0.00241792905534835,\n",
       " -0.0010274667700776313,\n",
       " -0.002617628578861844,\n",
       " -0.0006353093953494204,\n",
       " 0.00019750906804744117,\n",
       " -0.003051295274157609,\n",
       " -0.0011170347025190597,\n",
       " 0.0005139491619559483,\n",
       " -0.0002291854037101415,\n",
       " -0.0007659227872008761,\n",
       " -0.0006697782775026834,\n",
       " 0.00019730783416292696,\n",
       " 0.000335116853271783,\n",
       " 0.0003075980248219701,\n",
       " -0.001034437288243914,\n",
       " 0.001395105918218717,\n",
       " 0.0008787872367469474,\n",
       " -0.001158409298706295,\n",
       " 0.00039711820685010835,\n",
       " 0.0009271204134971289,\n",
       " 3.222385478632295e-05,\n",
       " 0.000287071884373144,\n",
       " 0.0004174908638276964,\n",
       " 0.0004522240786258569,\n",
       " -0.001763850810552886,\n",
       " -0.0008003694995194072,\n",
       " 0.0012847543341711898,\n",
       " 0.00035584422760512324,\n",
       " -0.002094388835008981,\n",
       " -2.2177414164964437e-06,\n",
       " -0.0008211292759188887,\n",
       " 0.001215932535154035,\n",
       " -0.002177056169532121,\n",
       " -0.0005250072670870826,\n",
       " -0.0003185742721017737,\n",
       " 0.00106477765450666,\n",
       " -0.000862479996899479,\n",
       " 0.001945905419447072,\n",
       " 0.0014501521019778807,\n",
       " 0.0014153796636259541,\n",
       " -0.0005526676414048248,\n",
       " -0.00033925730676563626,\n",
       " -0.0013235342070085643,\n",
       " -0.00042901453548822854,\n",
       " -0.0028170398945238095,\n",
       " 0.0005139286974931018,\n",
       " 0.00045917754307310543,\n",
       " -0.002720661748874975,\n",
       " 0.0009475664014665236,\n",
       " 0.0008718337722996988,\n",
       " -0.000910695502988404,\n",
       " 0.0006860872227220649,\n",
       " -0.00037365797404279033,\n",
       " 0.0011543472923199738,\n",
       " 0.0017116807365075287,\n",
       " -0.00014647031877371153,\n",
       " -0.002190923874872852,\n",
       " -0.00038755467070586413,\n",
       " 0.0013332478158802202,\n",
       " -0.0001743540968106999,\n",
       " 0.0010852833304926396,\n",
       " 1.8598312255771465e-05,\n",
       " -0.0017708179179753564,\n",
       " -0.0012273470630128208,\n",
       " 0.0011747983964050662,\n",
       " 0.00231072814589095,\n",
       " -0.0003670745752984289,\n",
       " 0.0004522803558986571,\n",
       " 0.0022897159744498796,\n",
       " 0.00023142540970425007,\n",
       " 0.0008581604793558573,\n",
       " 0.0003281770317997701,\n",
       " -0.0013029330301960185,\n",
       " 0.0006242205935240441,\n",
       " 0.00012180372483105995,\n",
       " -0.0007936667247418344,\n",
       " 0.0014156439962708517,\n",
       " -0.0007524353797944278,\n",
       " 0.00023893482539176503,\n",
       " 8.054338856129661e-05,\n",
       " -0.000614781549528709,\n",
       " -0.00048383731552816,\n",
       " -0.0005180316328051021,\n",
       " -6.409801358972511e-05,\n",
       " 0.0036662815630575107,\n",
       " -0.0003324453881863171,\n",
       " 0.0018147480139587002,\n",
       " 0.0014430946098445696,\n",
       " 0.0018079565598422137,\n",
       " 0.002324174624371733,\n",
       " 0.0007617277618061497,\n",
       " 0.0002043278081143851,\n",
       " 0.0007274839887440321,\n",
       " -0.0007453011459255116,\n",
       " 0.0020560063138249235,\n",
       " 0.00042474617910169543,\n",
       " 0.0018287964887211128,\n",
       " 0.003639018540393099,\n",
       " 0.0011200029023155922,\n",
       " 0.0010096001571109903,\n",
       " 4.5941487399614456e-05,\n",
       " 0.0019111619724175022,\n",
       " -0.0006283132966046073,\n",
       " -0.002535005584008182,\n",
       " -0.0009519285533077099,\n",
       " -0.0012480897856932682,\n",
       " -0.0026035340590580686,\n",
       " 0.0007071028049069339,\n",
       " -0.0009725706590459071,\n",
       " 0.0014500361366884956,\n",
       " -0.0012202503473257437,\n",
       " -0.0009381853401158602,\n",
       " -0.001261626648884892,\n",
       " 0.0006655866628517831,\n",
       " -0.0007520806624386756,\n",
       " 0.0020557095791138708,\n",
       " 0.0003353880074043053,\n",
       " 0.0013054936461078387,\n",
       " 0.0008995811205844695,\n",
       " -0.002500381513011768,\n",
       " 0.0007344221048441457,\n",
       " -0.0010277123436316232,\n",
       " -0.00048373669858589596,\n",
       " 0.0004381551394006117,\n",
       " -0.0020255499822728062,\n",
       " 0.0012918629874615756,\n",
       " -0.0018809597412788592,\n",
       " 0.0016910983187859163,\n",
       " -0.0007177260402028846,\n",
       " 0.0005004515223180905,\n",
       " 0.00264776771124009,\n",
       " 0.00021121476305742404,\n",
       " 0.0005416385275960334,\n",
       " 0.00041076932995919024,\n",
       " 0.0006309097253263951,\n",
       " 0.002875040635104298,\n",
       " -0.00011910156305132424,\n",
       " 0.0007823988588666897,\n",
       " -0.0021911438678482997,\n",
       " 0.0005897841134369364,\n",
       " 0.0009063759854447684,\n",
       " 0.0008101445017795611,\n",
       " -0.0013167086454540233,\n",
       " 0.0003764385829300443,\n",
       " 0.00246863355172916,\n",
       " -0.00037384385958016964,\n",
       " -0.0009449580351414411,\n",
       " 5.015404022770675e-06,\n",
       " -0.00011914590272078807,\n",
       " -0.00028398430854342793,\n",
       " -0.0008694147022557941,\n",
       " -0.001550651942029635,\n",
       " -0.00027078510898852215,\n",
       " -2.288031161752635e-05,\n",
       " 0.002200540277546084,\n",
       " 0.0016429083932755495,\n",
       " 0.00023923156010283164,\n",
       " 0.000637895591839785,\n",
       " 0.0004726530128762174,\n",
       " 0.0019594627471015424,\n",
       " -0.0001395833638306726,\n",
       " 0.0002664809397920215,\n",
       " -0.001633389196800783,\n",
       " 0.0017804650173428305,\n",
       " 0.0007276374722152701,\n",
       " 0.0017459944298176544,\n",
       " -0.00021531087688179962,\n",
       " -0.001117121676486088,\n",
       " 0.001237139118992009,\n",
       " 0.0004386121790705272,\n",
       " -0.000745372771545405,\n",
       " -4.344738099200385e-05,\n",
       " -0.0015025268206515507,\n",
       " 0.00010815601246576267,\n",
       " 0.0013672494261321722,\n",
       " 0.0001215939640870356,\n",
       " 0.0016156095578011703,\n",
       " -0.0027070140365096917,\n",
       " 0.001863260254758678,\n",
       " 0.00023207345102725652,\n",
       " -0.0010896608306809608,\n",
       " 0.0005003986557891166,\n",
       " -0.00029107931885859195,\n",
       " 0.0018423640486069787,\n",
       " -0.000497643627480393,\n",
       " -0.0009106238773684827,\n",
       " -0.0014747914099701026,\n",
       " -0.0013373524565641198,\n",
       " 3.880043204308736e-05,\n",
       " -0.00034609139517968734,\n",
       " -0.0013786520163876353,\n",
       " -0.0005872814801698018,\n",
       " -0.0013720242779737962,\n",
       " 0.002028629031243026,\n",
       " 0.0008237171777811386,\n",
       " -0.0009036738236650466,\n",
       " 0.0006723167235797856,\n",
       " 0.0010302422628491875,\n",
       " 0.0006725503595304411,\n",
       " 0.0023037900297908365,\n",
       " 0.0006378614844017305,\n",
       " 0.0012712839804837756,\n",
       " 0.0008097369178948349,\n",
       " 0.001649478149044703,\n",
       " 0.0008787957636064436,\n",
       " 0.0008925065747321381,\n",
       " -0.00048387142296620056,\n",
       " 1.186143004015816e-05,\n",
       " -0.0026175944714238036,\n",
       " -2.2716595914878956e-05,\n",
       " -0.0002705241870874231,\n",
       " -7.092869125999157e-05,\n",
       " -0.0009519319640515223,\n",
       " 0.00067907748100203,\n",
       " 0.00034899479084393725,\n",
       " -0.0015162342210334467,\n",
       " 0.0002801422951325405,\n",
       " 0.0014430536809189043,\n",
       " -0.0008144998321331365,\n",
       " 0.0005004140041362376,\n",
       " -0.0007386205409826707,\n",
       " -9.846798417263714e-05,\n",
       " -0.00016045057866001522,\n",
       " 0.0011473477828313483,\n",
       " 0.0014159594900728378,\n",
       " 0.0006313343629301416,\n",
       " -0.0005455777472053724,\n",
       " -0.0018398750583150658,\n",
       " -0.0013787014721728108,\n",
       " 0.002716676484224273,\n",
       " 0.0003004569694654291,\n",
       " -0.00018814335504391266,\n",
       " 0.0005965499869748925,\n",
       " -0.0005731767281346167,\n",
       " 0.00021128809404923066,\n",
       " 2.5502320917830668e-05,\n",
       " -5.0133102050542444e-05,\n",
       " 0.0016152599565611298,\n",
       " -0.001798435657995534,\n",
       " -0.0005252153224591938,\n",
       " 0.0014641903445088839,\n",
       " 0.0011748836650001954,\n",
       " 0.0007892875191816279,\n",
       " -1.561476411210405e-05,\n",
       " -0.0013373336974731864,\n",
       " -0.0005596108736206501,\n",
       " 0.0004109552154965834,\n",
       " -0.00117928845113896,\n",
       " -0.0024934451022835535,\n",
       " -0.0021080297258866537,\n",
       " -0.0005666172045968865,\n",
       " -0.0009519285533077099,\n",
       " 0.0003830987234100386,\n",
       " 1.1822206486392095e-05,\n",
       " -0.0017572588849490145,\n",
       " 6.674560346857372e-05,\n",
       " -0.000656016305219928,\n",
       " 0.0008104275935154059,\n",
       " 0.0004933803872095716,\n",
       " 0.0020420311700543176,\n",
       " 8.059625509027057e-05,\n",
       " 0.0006862696975156457,\n",
       " 0.0005693364200956424,\n",
       " -0.00016033461337064403,\n",
       " -0.0016334369472140592,\n",
       " 0.002427565922484401,\n",
       " -0.0011514183160771796,\n",
       " -0.001351375350747988,\n",
       " 0.0009340892262914985,\n",
       " -0.002541800448868467,\n",
       " 0.0016497885267309914,\n",
       " -0.0010686554807274873,\n",
       " -0.00031887953367235045,\n",
       " -0.0013508483908300645,\n",
       " 0.00045903940794900233,\n",
       " -0.00048390382503235574,\n",
       " -0.00040145307274085107,\n",
       " 0.0014503328713995622,\n",
       " 0.0015533268178589271,\n",
       " -0.0001122538316620375,\n",
       " -0.0012066793766960793,\n",
       " -0.0003666772236451121,\n",
       " -0.00047693671760988543,\n",
       " -0.0009037386277973292,\n",
       " 0.0012159734640797004,\n",
       " 0.0016706403932131991,\n",
       " 0.00048662474590302485,\n",
       " 0.0007001595726911086,\n",
       " -0.0011100812380717973,\n",
       " -0.0012479448290815404,\n",
       " 0.0006446410009149084,\n",
       " 0.0006175212294902976,\n",
       " 0.00047993220335687536,\n",
       " -0.002108224138283557,\n",
       " 0.0029022610234711588,\n",
       " -0.0005251931526244619,\n",
       " 0.0008719002818038946,\n",
       " -0.0011169971843371929,\n",
       " 0.00098197047948749,\n",
       " 0.0021385679152901016,\n",
       " -0.001578203172545617,\n",
       " 0.00030788452730159954,\n",
       " -0.0013578990614757647,\n",
       " -0.001709017798281559,\n",
       " 0.00065885830749568,\n",
       " 0.0016219320346444327,\n",
       " -0.0002431400830179009,\n",
       " 0.0013674029096034102,\n",
       " 1.84209535779023e-05,\n",
       " -2.1699910032341174e-06,\n",
       " 0.0001976233279649131,\n",
       " 0.0012368611433718757,\n",
       " -0.0018536711380358895,\n",
       " -0.002156231589000357,\n",
       " 0.0006862117148709462,\n",
       " -0.0018464789215222738,\n",
       " -0.0014821132347483251,\n",
       " -0.0003529800554946394,\n",
       " 0.0011265965332913769,\n",
       " 0.00030097369715192945,\n",
       " -0.002500436084912655,\n",
       " 0.0027439770250705653,\n",
       " 0.002021155428365465,\n",
       " 0.001924889837262203,\n",
       " 0.0010580339508034359,\n",
       " 0.0005210049487173463,\n",
       " 4.53789989003639e-06,\n",
       " 0.0009270811899433767,\n",
       " -0.00012585720435785708,\n",
       " -0.000291094667205713,\n",
       " -0.0016955610875693528,\n",
       " -0.0002088366219391985,\n",
       " 0.0018219965077451022,\n",
       " -0.00020176719220257877,\n",
       " 0.0010442174066197796,\n",
       " -0.0020460471313992756,\n",
       " 0.0014640897275666198,\n",
       " -0.00024299171566237454,\n",
       " 0.0009268714291993385,\n",
       " 0.00035540594702614114,\n",
       " 0.0017323330744771354,\n",
       " -0.0011582421722598352,\n",
       " 5.31405254008549e-05,\n",
       " 0.0015600006013141293,\n",
       " 0.002283037074878966,\n",
       " 0.000431484766689208,\n",
       " -0.0014542942608436193,\n",
       " 0.00013568848389081123,\n",
       " -0.0018331842211408295,\n",
       " -0.0006905568129931122,\n",
       " 0.001463808341202688,\n",
       " -0.0019845386303008195,\n",
       " 0.0008512820512723424,\n",
       " 0.0006448985120722089,\n",
       " 0.0006172790666801181,\n",
       " 0.0021315667004295907,\n",
       " 0.0022211653295652473,\n",
       " -4.337746074400961e-05,\n",
       " 0.0013193460031014487,\n",
       " 0.002503284908676018,\n",
       " -0.001041677255170806,\n",
       " -0.0017294978936889943,\n",
       " -0.001736430893673424,\n",
       " -0.0015025796871805386,\n",
       " 0.0005690260424093541,\n",
       " -0.0021081218159693937,\n",
       " 0.0010715196528379711,\n",
       " 0.0013673602753058317,\n",
       " 0.0007826239679578351,\n",
       " 2.5492088686421277e-05,\n",
       " 0.000995884229869598,\n",
       " 0.000816608524490739,\n",
       " 0.00036272606643245053,\n",
       " -0.0004699508510964956,\n",
       " -0.0009312676884785792,\n",
       " -0.0012684590319270578,\n",
       " -0.00022927408304906916,\n",
       " 0.0017051519096640405,\n",
       " 0.0020832284075636975,\n",
       " -0.0014202346679469957,\n",
       " -0.0007110539621195677,\n",
       " -0.0008005690280320082,\n",
       " -0.00019479496866438295,\n",
       " 0.0005903059572391345,\n",
       " -0.0005114431179450152,\n",
       " 0.001374596831488925,\n",
       " 0.0014779079771221754,\n",
       " 0.0011194554779348498,\n",
       " -0.0013925794097449512,\n",
       " -0.0017364240721858132,\n",
       " -0.0005387999360640938,\n",
       " 0.00016329940242337804,\n",
       " -0.00025677926852367416,\n",
       " -0.002142515661758951,\n",
       " 0.00116783981584212,\n",
       " -0.0018809563305350607,\n",
       " 0.00020417261927123398,\n",
       " 0.0001767970420612358,\n",
       " 0.0008306092488398892,\n",
       " 0.0005552845345894175,\n",
       " 0.000486633272762535,\n",
       " -0.0007593905496135755,\n",
       " 0.0003007605256640927,\n",
       " 0.00027333037655320747,\n",
       " -0.0002705719375006854,\n",
       " 0.0006999958569884612,\n",
       " -0.00042182914046223763,\n",
       " 0.0021866691614615408,\n",
       " -0.001743309321756939,\n",
       " 0.004292716487254267,\n",
       " 0.0020696881336282613,\n",
       " 7.381503320519345e-05,\n",
       " 0.0005690465068721867,\n",
       " -0.0009106545740627248,\n",
       " -0.002383588076087781,\n",
       " -0.0003115304229436844,\n",
       " -0.0012546527199748109,\n",
       " 0.001532722230302569,\n",
       " -0.0006837159030914364,\n",
       " 0.0011609733253618998,\n",
       " 0.0006381667459722934,\n",
       " 0.0017185949774010112,\n",
       " -0.0012823267372677888,\n",
       " -0.0026312677643676313,\n",
       " 4.769830468806524e-06,\n",
       " -0.0009655609173258722,\n",
       " 0.0024205374216734465,\n",
       " -0.00020185246079769403,\n",
       " -0.0008417065775247756,\n",
       " -5.7144549142476575e-05,\n",
       " 0.0011405460964834385,\n",
       " -0.0005597029637033901,\n",
       " -0.0006968537092578303,\n",
       " 0.0008100762869034522,\n",
       " -9.822241061864523e-05,\n",
       " 3.232617710048624e-05,\n",
       " 0.0009546511795502782,\n",
       " -0.0005527597314875649,\n",
       " 0.00019732147713814874,\n",
       " -0.0015852248518689604,\n",
       " -1.569832733533394e-05,\n",
       " -0.0016263930980559699,\n",
       " 0.0007482778725815542,\n",
       " 0.0006584694827018872,\n",
       " 0.00039054162959333005,\n",
       " -2.9533630609909767e-05,\n",
       " -0.0029135237732306057,\n",
       " -0.0006284156189187845,\n",
       " -0.00017433533771978038,\n",
       " -0.0005316708183108615,\n",
       " -0.0005319215079805512,\n",
       " 0.0012917043878746398,\n",
       " -0.0003945899930044433,\n",
       " -0.0011241552934127541,\n",
       " -0.00015353633776653275,\n",
       " -0.0017363558573097043,\n",
       " 0.0001975721668078384,\n",
       " -0.0020463762681764835,\n",
       " 0.0015811338541602965,\n",
       " -0.0005664023277371505,\n",
       " 0.0013330346443923974,\n",
       " -0.0005388204005269265,\n",
       " 0.001278160703195405,\n",
       " 0.0005762813576833808,\n",
       " 0.0001285815359723247,\n",
       " -3.673266861113633e-05,\n",
       " 0.000576419492807484,\n",
       " 0.0018423367626565351,\n",
       " 0.0007139096073705553,\n",
       " -0.00020184905005389553,\n",
       " 0.0010302269145020526,\n",
       " 0.0007686283597244103,\n",
       " -0.0030511861303558346,\n",
       " 0.00029362799716707577,\n",
       " 0.000844314943849872,\n",
       " -0.0009450057855547173,\n",
       " -0.0002362497173310496,\n",
       " 0.001140534158880116,\n",
       " -0.0021837009616649944,\n",
       " -0.001006971326323075,\n",
       " -0.0012273061340871555,\n",
       " -0.001763982124189406,\n",
       " 0.001553379684387901,\n",
       " 0.0002045205151393753,\n",
       " -0.0008488049985837381,\n",
       " -0.0005596671508934364,\n",
       " -0.0011378354078441927,\n",
       " -0.0009932383453626487,\n",
       " -0.0011170892744199468,\n",
       " -0.0015508531759141353,\n",
       " -0.0005389687678824528,\n",
       " -0.001350913194962361,\n",
       " 0.0006517735294119253,\n",
       " -0.000745510906669522,\n",
       " 0.00011498669013602913,\n",
       " 0.0007619716299882145,\n",
       " -1.5949017005023602e-05,\n",
       " -0.000346273869973282,\n",
       " 0.00145702029783,\n",
       " 0.0012986817275285056,\n",
       " -0.0009313955913712729,\n",
       " -0.001750305420501752,\n",
       " -0.0006215184317443223,\n",
       " -4.338598760351975e-05,\n",
       " 9.424396745556785e-05,\n",
       " 0.0014913101159334807,\n",
       " 0.0008789014966644054,\n",
       " 0.0012163281814354526,\n",
       " 0.0026684268706973074,\n",
       " 0.0005210714582215559,\n",
       " 0.0013952304103676122,\n",
       " 0.0006723388934145175,\n",
       " -0.0016472893042076692,\n",
       " 0.00021830977337258806,\n",
       " 0.0001219623244179957,\n",
       " -0.0003050493465134724,\n",
       " 6.665862950153145e-05,\n",
       " 0.00020419308373406664,\n",
       " -0.0005939859603192738,\n",
       " 0.0004040580283221351,\n",
       " 0.0014363355577942383,\n",
       " 0.0010440417533138097,\n",
       " 0.0004382881584090309,\n",
       " -0.0007387041042059006,\n",
       " 0.0016566993568806754,\n",
       " 0.0002596621997250914,\n",
       " -0.0005392296897835519,\n",
       " -0.0021148297068626642,\n",
       " -0.0003671837191001892,\n",
       " 0.001766609249605408,\n",
       " -0.0002635025077640657,\n",
       " -0.0003049504349431076,\n",
       " -0.0022802070102065225,\n",
       " -0.0017917686960279289,\n",
       " -0.002307921956425152,\n",
       " -0.0010829392968124546,\n",
       " -0.001984366387738662,\n",
       " 0.0010301586996259576,\n",
       " 0.0015259648836241368,\n",
       " -0.001468074992217322,\n",
       " 0.0021519308305476548,\n",
       " -0.0009794848999393896,\n",
       " 0.0005690840250540397,\n",
       " 0.0021317031301817946,\n",
       " 0.0016565254089466047,\n",
       " 0.001326319932011516,\n",
       " 0.0003420634962314345,\n",
       " 0.0013262483063916086,\n",
       " 0.0005692358031533784,\n",
       " 5.292223779730654e-05,\n",
       " 0.0008378202244444383,\n",
       " 0.0011337171241850852,\n",
       " 0.001746091636016106,\n",
       " -4.365543636412894e-05,\n",
       " -0.0016539562661752744,\n",
       " 0.0016497731783838704,\n",
       " -9.152475195681187e-05,\n",
       " 0.001794298615245507,\n",
       " 0.0022416079067908434,\n",
       " 0.00048651901284506305,\n",
       " 0.0002110715118176093,\n",
       " 0.0009269208849845278,\n",
       " 0.002014314518463789,\n",
       " -7.79691296742685e-05,\n",
       " -0.0004425411664484291,\n",
       " -0.00042193998963591106,\n",
       " -0.00019463977982125957,\n",
       " 0.0014640419771533436,\n",
       " -0.00034630286129561094,\n",
       " -6.396328920942052e-05,\n",
       " 0.0014155962458575755,\n",
       " 0.0005347276974463494,\n",
       " -0.00027045938295511274,\n",
       " 0.0005829858378328251,\n",
       " -0.0015368729160278455,\n",
       " 0.000390188617609491,\n",
       " -0.0006350945184896983,\n",
       " 0.000376566485822738,\n",
       " -0.00028413438127085355,\n",
       " 0.0007138055796844789,\n",
       " 0.0013536426426925402,\n",
       " 0.0006997605156658926,\n",
       " 0.0022554994873382056,\n",
       " -0.0005941684351128546,\n",
       " -0.0004976555650837156,\n",
       " -0.00027745548169992584,\n",
       " 0.0002729517839908241,\n",
       " -0.0005665336413736566,\n",
       " 0.0004382080059295995,\n",
       " -0.0006285537540429015,\n",
       " 0.0015189449096726926,\n",
       " -2.269783682394555e-05,\n",
       " -7.062854580511257e-05,\n",
       " 7.356945965121542e-05,\n",
       " -0.0003532358612800407,\n",
       " -0.0012615175050831318,\n",
       " 0.00035562423462967563,\n",
       " -0.0011240802570490344,\n",
       " 0.002468787035200412,\n",
       " -0.0005525738459501855,\n",
       " 0.0014089378107494943,\n",
       " -0.0010481702692043404,\n",
       " 0.0004179359658942755,\n",
       " -0.0004841766845367773,\n",
       " 0.0016910249877941097,\n",
       " 0.0008099790807050006,\n",
       " 0.001250401417307298,\n",
       " -0.000999968406090651,\n",
       " -0.001158463870607182,\n",
       " -0.0009518790975225344,\n",
       " 0.00042451765926675156,\n",
       " -0.0016885291760145998,\n",
       " 0.0002940168219608824,\n",
       " -0.0014064181237633394,\n",
       " -0.000634884757745674,\n",
       " 0.0004111155204554323,\n",
       " 0.0009064066821390104,\n",
       " 0.001525874498913296,\n",
       " 0.0017803865702352983,\n",
       " -0.0006077377003706197,\n",
       " -5.0445185108730084e-05,\n",
       " 0.0022207918531185616,\n",
       " -0.0012890141636982266,\n",
       " -0.000958801865275527,\n",
       " -0.0004359031958031806,\n",
       " 0.00030759290870625844,\n",
       " -0.00042874849747141786,\n",
       " 0.0018288732304567318,\n",
       " 0.0008929772573772615,\n",
       " 0.0012781811676582377,\n",
       " -0.0007455433087356772,\n",
       " 0.0010786300115002562,\n",
       " -0.0018878876251475635,\n",
       " -0.0006077973883872045,\n",
       " 0.0012918203531639971,\n",
       " -0.0036018918361295504,\n",
       " -0.00046325830855036,\n",
       " -0.00044949122015187915,\n",
       " 0.001078421956128131,\n",
       " 0.00012151892772331585,\n",
       " -0.0025281459150155727,\n",
       " -0.0011376751028853438,\n",
       " 0.0006241063336065722,\n",
       " -0.0003944586793679511,\n",
       " -0.0007797632065911636,\n",
       " 0.0012642776495075392,\n",
       " 0.0022761637629111486,\n",
       " -0.0013787611601893957,\n",
       " 0.00030760825705337946,\n",
       " 0.0018698675287096844,\n",
       " -0.0008143958044470739,\n",
       " 0.0007618897721368978,\n",
       " -0.0023836648178234138,\n",
       " 0.0017463951922147697,\n",
       " 0.0012780720238564636,\n",
       " 0.0007758239869818384,\n",
       " -0.00035282827739530065,\n",
       " -0.0003325323621533455,\n",
       " -0.00047707996884971404,\n",
       " -0.001495726839675554,\n",
       " -0.0010277072275159116,\n",
       " -0.001530202543316428,\n",
       " 0.0006243757823671953,\n",
       " 0.000906203742882597,\n",
       " -0.0005736098925978872,\n",
       " 0.001608267268560129,\n",
       " -0.000594064407426792,\n",
       " -0.00013989544688886024,\n",
       " 0.0007962955555297635,\n",
       " -0.0006424572721935723,\n",
       " -0.0007935149466424957,\n",
       " -0.00021556668266720092,\n",
       " -9.142754575836021e-05,\n",
       " -0.0015508139523603692,\n",
       " 0.0016223651991077032,\n",
       " -0.00019477109345776566,\n",
       " -0.0012270554444174658,\n",
       " 0.00019056754120351516,\n",
       " -7.109411233453822e-05,\n",
       " 0.0016702055233780433,\n",
       " 0.00020439602299049398,\n",
       " 0.0002044335411723469,\n",
       " ...]"
      ]
     },
     "execution_count": 37,
     "metadata": {},
     "output_type": "execute_result"
    }
   ],
   "source": [
    "p_diffs=[]\n",
    "for _ in range(10000):\n",
    "    new_page_converted = np.random.binomial(1,p_new,n_new)\n",
    "    old_page_converted = np.random.binomial(1,p_old,n_old)\n",
    "    p_diffs.append(new_page_converted.mean()-old_page_converted.mean())\n",
    "    \n",
    "p_diffs"
   ]
  },
  {
   "cell_type": "markdown",
   "metadata": {},
   "source": [
    "i. Plot a histogram of the **p_diffs**.  Does this plot look like what you expected?  Use the matching problem in the classroom to assure you fully understand what was computed here."
   ]
  },
  {
   "cell_type": "code",
   "execution_count": 38,
   "metadata": {},
   "outputs": [
    {
     "data": {
      "image/png": "[encoded data removed]",
      "text/plain": [
       "<Figure size 432x288 with 1 Axes>"
      ]
     },
     "metadata": {
      "needs_background": "light"
     },
     "output_type": "display_data"
    }
   ],
   "source": [
    "plt.hist(p_diffs);"
   ]
  },
  {
   "cell_type": "markdown",
   "metadata": {},
   "source": [
    "j. What proportion of the **p_diffs** are greater than the actual difference observed in **ab_data.csv**?"
   ]
  },
  {
   "cell_type": "code",
   "execution_count": 39,
   "metadata": {},
   "outputs": [
    {
     "data": {
      "text/plain": [
       "-0.0015782389853555567"
      ]
     },
     "execution_count": 39,
     "metadata": {},
     "output_type": "execute_result"
    }
   ],
   "source": [
    "actual_diff = (df2.query('group == \"treatment\"')['converted'].mean())-(df2.query('group == \"control\"')['converted'].mean())\n",
    "actual_diff"
   ]
  },
  {
   "cell_type": "code",
   "execution_count": 40,
   "metadata": {},
   "outputs": [
    {
     "data": {
      "text/plain": [
       "0.908"
      ]
     },
     "execution_count": 40,
     "metadata": {},
     "output_type": "execute_result"
    }
   ],
   "source": [
    "p_diffs=np.array(p_diffs)\n",
    "(p_diffs>actual_diff).mean()"
   ]
  },
  {
   "cell_type": "markdown",
   "metadata": {},
   "source": [
    "k. In words, explain what you just computed in part **j.**  What is this value called in scientific studies?  What does this value mean in terms of whether or not there is a difference between the new and old pages?"
   ]
  },
  {
   "cell_type": "markdown",
   "metadata": {},
   "source": [
    "**Answer**\n",
    ">The value computed in part j is called p-value. Since the p-value is greater than 0.05, it's high. Which indicates weak evidence against the null hypothesis, so we fail to reject the null hypothesis."
   ]
  },
  {
   "cell_type": "markdown",
   "metadata": {},
   "source": [
    "l. We could also use a built-in to achieve similar results.  Though using the built-in might be easier to code, the above portions are a walkthrough of the ideas that are critical to correctly thinking about statistical significance. Fill in the below to calculate the number of conversions for each page, as well as the number of individuals who received each page. Let `n_old` and `n_new` refer the the number of rows associated with the old page and new pages, respectively."
   ]
  },
  {
   "cell_type": "code",
   "execution_count": 41,
   "metadata": {},
   "outputs": [],
   "source": [
    "import statsmodels.api as sm\n",
    "\n",
    "convert_old = df2.query('landing_page == \"old_page\" and converted == 1').count()[0]\n",
    "convert_new = df2.query('landing_page == \"new_page\" and converted == 1').count()[0]\n",
    "n_old = df2.query('landing_page == \"old_page\"').count()[0]\n",
    "n_new = df2.query('landing_page == \"new_page\"').count()[0]"
   ]
  },
  {
   "cell_type": "code",
   "execution_count": 42,
   "metadata": {},
   "outputs": [
    {
     "name": "stdout",
     "output_type": "stream",
     "text": [
      "17489\n",
      "145274\n",
      "17264\n",
      "145310\n"
     ]
    }
   ],
   "source": [
    "print(convert_old)\n",
    "print(n_old)\n",
    "print(convert_new)\n",
    "print(n_new)"
   ]
  },
  {
   "cell_type": "markdown",
   "metadata": {},
   "source": [
    "m. Now use `stats.proportions_ztest` to compute your test statistic and p-value.  [Here](http://knowledgetack.com/python/statsmodels/proportions_ztest/) is a helpful link on using the built in."
   ]
  },
  {
   "cell_type": "code",
   "execution_count": 43,
   "metadata": {},
   "outputs": [],
   "source": [
    "z_score, p_value = sm.stats.proportions_ztest(count = [convert_new,convert_old], nobs = [n_new,n_old], alternative ='larger' )"
   ]
  },
  {
   "cell_type": "code",
   "execution_count": 44,
   "metadata": {},
   "outputs": [
    {
     "name": "stdout",
     "output_type": "stream",
     "text": [
      "z_score: -1.3109241984234394\n"
     ]
    }
   ],
   "source": [
    "print (\"z_score:\",z_score)"
   ]
  },
  {
   "cell_type": "code",
   "execution_count": 45,
   "metadata": {},
   "outputs": [
    {
     "name": "stdout",
     "output_type": "stream",
     "text": [
      "p_value: 0.9050583127590245\n"
     ]
    }
   ],
   "source": [
    "print(\"p_value:\",p_value)"
   ]
  },
  {
   "cell_type": "markdown",
   "metadata": {},
   "source": [
    "n. What do the z-score and p-value you computed in the previous question mean for the conversion rates of the old and new pages?  Do they agree with the findings in parts **j.** and **k.**?"
   ]
  },
  {
   "cell_type": "markdown",
   "metadata": {},
   "source": [
    "**Answer**\n",
    ">The z_score is a test of statistical significance that helps decide whether or not to reject the null hypothesis.A negative z-score and the value of p-value implies that we fail to reject the null hypothesis.Which means new page conversion rate is higher than old page.Yes I agree with findings in J and K.\n"
   ]
  },
  {
   "cell_type": "markdown",
   "metadata": {},
   "source": [
    "<a id='regression'></a>\n",
    "### Part III - A regression approach\n",
    "\n",
    "`1.` In this final part, you will see that the result you acheived in the previous A/B test can also be acheived by performing regression.<br><br>\n",
    "\n",
    "a. Since each row is either a conversion or no conversion, what type of regression should you be performing in this case?"
   ]
  },
  {
   "cell_type": "markdown",
   "metadata": {},
   "source": [
    "**Logistic Regression**"
   ]
  },
  {
   "cell_type": "markdown",
   "metadata": {},
   "source": [
    "b. The goal is to use **statsmodels** to fit the regression model you specified in part **a.** to see if there is a significant difference in conversion based on which page a customer receives.  However, you first need to create a column for the intercept, and create a dummy variable column for which page each user received.  Add an **intercept** column, as well as an **ab_page** column, which is 1 when an individual receives the **treatment** and 0 if **control**."
   ]
  },
  {
   "cell_type": "code",
   "execution_count": 46,
   "metadata": {},
   "outputs": [],
   "source": [
    "#Creating intercept column\n",
    "df2['intercept']=1\n",
    "\n",
    "#Creating dummies\n",
    "df2[['control','ab_page']] = pd.get_dummies(df2['group'])"
   ]
  },
  {
   "cell_type": "code",
   "execution_count": 47,
   "metadata": {},
   "outputs": [
    {
     "data": {
      "text/html": [
       "<div>\n",
       "<style scoped>\n",
       "    .dataframe tbody tr th:only-of-type {\n",
       "        vertical-align: middle;\n",
       "    }\n",
       "\n",
       "    .dataframe tbody tr th {\n",
       "        vertical-align: top;\n",
       "    }\n",
       "\n",
       "    .dataframe thead th {\n",
       "        text-align: right;\n",
       "    }\n",
       "</style>\n",
       "<table border=\"1\" class=\"dataframe\">\n",
       "  <thead>\n",
       "    <tr style=\"text-align: right;\">\n",
       "      <th></th>\n",
       "      <th>user_id</th>\n",
       "      <th>timestamp</th>\n",
       "      <th>group</th>\n",
       "      <th>landing_page</th>\n",
       "      <th>converted</th>\n",
       "      <th>treatment</th>\n",
       "      <th>newPg</th>\n",
       "      <th>oldPg</th>\n",
       "      <th>intercept</th>\n",
       "      <th>ab_page</th>\n",
       "    </tr>\n",
       "  </thead>\n",
       "  <tbody>\n",
       "    <tr>\n",
       "      <th>0</th>\n",
       "      <td>851104</td>\n",
       "      <td>2017-01-21 22:11:48.556739</td>\n",
       "      <td>control</td>\n",
       "      <td>old_page</td>\n",
       "      <td>0</td>\n",
       "      <td>0</td>\n",
       "      <td>0</td>\n",
       "      <td>1</td>\n",
       "      <td>1</td>\n",
       "      <td>0</td>\n",
       "    </tr>\n",
       "    <tr>\n",
       "      <th>1</th>\n",
       "      <td>804228</td>\n",
       "      <td>2017-01-12 08:01:45.159739</td>\n",
       "      <td>control</td>\n",
       "      <td>old_page</td>\n",
       "      <td>0</td>\n",
       "      <td>0</td>\n",
       "      <td>0</td>\n",
       "      <td>1</td>\n",
       "      <td>1</td>\n",
       "      <td>0</td>\n",
       "    </tr>\n",
       "    <tr>\n",
       "      <th>2</th>\n",
       "      <td>661590</td>\n",
       "      <td>2017-01-11 16:55:06.154213</td>\n",
       "      <td>treatment</td>\n",
       "      <td>new_page</td>\n",
       "      <td>0</td>\n",
       "      <td>1</td>\n",
       "      <td>1</td>\n",
       "      <td>0</td>\n",
       "      <td>1</td>\n",
       "      <td>1</td>\n",
       "    </tr>\n",
       "    <tr>\n",
       "      <th>3</th>\n",
       "      <td>853541</td>\n",
       "      <td>2017-01-08 18:28:03.143765</td>\n",
       "      <td>treatment</td>\n",
       "      <td>new_page</td>\n",
       "      <td>0</td>\n",
       "      <td>1</td>\n",
       "      <td>1</td>\n",
       "      <td>0</td>\n",
       "      <td>1</td>\n",
       "      <td>1</td>\n",
       "    </tr>\n",
       "    <tr>\n",
       "      <th>4</th>\n",
       "      <td>864975</td>\n",
       "      <td>2017-01-21 01:52:26.210827</td>\n",
       "      <td>control</td>\n",
       "      <td>old_page</td>\n",
       "      <td>1</td>\n",
       "      <td>0</td>\n",
       "      <td>0</td>\n",
       "      <td>1</td>\n",
       "      <td>1</td>\n",
       "      <td>0</td>\n",
       "    </tr>\n",
       "  </tbody>\n",
       "</table>\n",
       "</div>"
      ],
      "text/plain": [
       "   user_id                   timestamp      group landing_page  converted  \\\n",
       "0   851104  2017-01-21 22:11:48.556739    control     old_page          0   \n",
       "1   804228  2017-01-12 08:01:45.159739    control     old_page          0   \n",
       "2   661590  2017-01-11 16:55:06.154213  treatment     new_page          0   \n",
       "3   853541  2017-01-08 18:28:03.143765  treatment     new_page          0   \n",
       "4   864975  2017-01-21 01:52:26.210827    control     old_page          1   \n",
       "\n",
       "   treatment  newPg  oldPg  intercept  ab_page  \n",
       "0          0      0      1          1        0  \n",
       "1          0      0      1          1        0  \n",
       "2          1      1      0          1        1  \n",
       "3          1      1      0          1        1  \n",
       "4          0      0      1          1        0  "
      ]
     },
     "execution_count": 47,
     "metadata": {},
     "output_type": "execute_result"
    }
   ],
   "source": [
    "#Dropping control column as we require ab_page only as per instructions in b.\n",
    "df2.drop(labels=['control'], axis=1,inplace=True)\n",
    "df2.head()"
   ]
  },
  {
   "cell_type": "markdown",
   "metadata": {},
   "source": [
    "c. Use **statsmodels** to import your regression model.  Instantiate the model, and fit the model using the two columns you created in part **b.** to predict whether or not an individual converts."
   ]
  },
  {
   "cell_type": "code",
   "execution_count": 48,
   "metadata": {},
   "outputs": [],
   "source": [
    "logit = sm.Logit(df2['converted'], df2[['intercept','ab_page']])"
   ]
  },
  {
   "cell_type": "markdown",
   "metadata": {},
   "source": [
    "d. Provide the summary of your model below, and use it as necessary to answer the following questions."
   ]
  },
  {
   "cell_type": "code",
   "execution_count": 49,
   "metadata": {},
   "outputs": [
    {
     "name": "stdout",
     "output_type": "stream",
     "text": [
      "Optimization terminated successfully.\n",
      "         Current function value: 0.366118\n",
      "         Iterations 6\n"
     ]
    },
    {
     "data": {
      "text/html": [
       "<table class=\"simpletable\">\n",
       "<caption>Logit Regression Results</caption>\n",
       "<tr>\n",
       "  <th>Dep. Variable:</th>     <td>converted</td>    <th>  No. Observations:  </th>   <td>290584</td>   \n",
       "</tr>\n",
       "<tr>\n",
       "  <th>Model:</th>               <td>Logit</td>      <th>  Df Residuals:      </th>   <td>290582</td>   \n",
       "</tr>\n",
       "<tr>\n",
       "  <th>Method:</th>               <td>MLE</td>       <th>  Df Model:          </th>   <td>     1</td>   \n",
       "</tr>\n",
       "<tr>\n",
       "  <th>Date:</th>          <td>Mon, 13 May 2019</td> <th>  Pseudo R-squ.:     </th>  <td>8.077e-06</td> \n",
       "</tr>\n",
       "<tr>\n",
       "  <th>Time:</th>              <td>14:53:25</td>     <th>  Log-Likelihood:    </th> <td>-1.0639e+05</td>\n",
       "</tr>\n",
       "<tr>\n",
       "  <th>converged:</th>           <td>True</td>       <th>  LL-Null:           </th> <td>-1.0639e+05</td>\n",
       "</tr>\n",
       "<tr>\n",
       "  <th> </th>                      <td> </td>        <th>  LLR p-value:       </th>   <td>0.1899</td>   \n",
       "</tr>\n",
       "</table>\n",
       "<table class=\"simpletable\">\n",
       "<tr>\n",
       "      <td></td>         <th>coef</th>     <th>std err</th>      <th>z</th>      <th>P>|z|</th>  <th>[0.025</th>    <th>0.975]</th>  \n",
       "</tr>\n",
       "<tr>\n",
       "  <th>intercept</th> <td>   -1.9888</td> <td>    0.008</td> <td> -246.669</td> <td> 0.000</td> <td>   -2.005</td> <td>   -1.973</td>\n",
       "</tr>\n",
       "<tr>\n",
       "  <th>ab_page</th>   <td>   -0.0150</td> <td>    0.011</td> <td>   -1.311</td> <td> 0.190</td> <td>   -0.037</td> <td>    0.007</td>\n",
       "</tr>\n",
       "</table>"
      ],
      "text/plain": [
       "<class 'statsmodels.iolib.summary.Summary'>\n",
       "\"\"\"\n",
       "                           Logit Regression Results                           \n",
       "==============================================================================\n",
       "Dep. Variable:              converted   No. Observations:               290584\n",
       "Model:                          Logit   Df Residuals:                   290582\n",
       "Method:                           MLE   Df Model:                            1\n",
       "Date:                Mon, 13 May 2019   Pseudo R-squ.:               8.077e-06\n",
       "Time:                        14:53:25   Log-Likelihood:            -1.0639e+05\n",
       "converged:                       True   LL-Null:                   -1.0639e+05\n",
       "                                        LLR p-value:                    0.1899\n",
       "==============================================================================\n",
       "                 coef    std err          z      P>|z|      [0.025      0.975]\n",
       "------------------------------------------------------------------------------\n",
       "intercept     -1.9888      0.008   -246.669      0.000      -2.005      -1.973\n",
       "ab_page       -0.0150      0.011     -1.311      0.190      -0.037       0.007\n",
       "==============================================================================\n",
       "\"\"\""
      ]
     },
     "execution_count": 49,
     "metadata": {},
     "output_type": "execute_result"
    }
   ],
   "source": [
    "logit.fit().summary()"
   ]
  },
  {
   "cell_type": "markdown",
   "metadata": {},
   "source": [
    "e. What is the p-value associated with **ab_page**? Why does it differ from the value you found in **Part II**?<br><br>  **Hint**: What are the null and alternative hypotheses associated with your regression model, and how do they compare to the null and alternative hypotheses in the **Part II**?"
   ]
  },
  {
   "cell_type": "markdown",
   "metadata": {},
   "source": [
    "**Answer**\n",
    ">p_value associated with ab_page is 0.19 and is lower than the p-value calculated in Part II , since intercept is added."
   ]
  },
  {
   "cell_type": "markdown",
   "metadata": {},
   "source": [
    "f. Now, you are considering other things that might influence whether or not an individual converts.  Discuss why it is a good idea to consider other factors to add into your regression model.  Are there any disadvantages to adding additional terms into your regression model?"
   ]
  },
  {
   "cell_type": "markdown",
   "metadata": {},
   "source": [
    "**Yes other factor like timestamp can also impact the conversion rate.Conversion factor may be higher at some point of time in a day and could be taken into consideration**"
   ]
  },
  {
   "cell_type": "markdown",
   "metadata": {},
   "source": [
    "g. Now along with testing if the conversion rate changes for different pages, also add an effect based on which country a user lives. You will need to read in the **countries.csv** dataset and merge together your datasets on the approporiate rows.  [Here](https://pandas.pydata.org/pandas-docs/stable/generated/pandas.DataFrame.join.html) are the docs for joining tables. \n",
    "\n",
    "Does it appear that country had an impact on conversion?  Don't forget to create dummy variables for these country columns - **Hint: You will need two columns for the three dummy variables.** Provide the statistical output as well as a written response to answer this question."
   ]
  },
  {
   "cell_type": "code",
   "execution_count": 50,
   "metadata": {},
   "outputs": [
    {
     "data": {
      "text/html": [
       "<div>\n",
       "<style scoped>\n",
       "    .dataframe tbody tr th:only-of-type {\n",
       "        vertical-align: middle;\n",
       "    }\n",
       "\n",
       "    .dataframe tbody tr th {\n",
       "        vertical-align: top;\n",
       "    }\n",
       "\n",
       "    .dataframe thead th {\n",
       "        text-align: right;\n",
       "    }\n",
       "</style>\n",
       "<table border=\"1\" class=\"dataframe\">\n",
       "  <thead>\n",
       "    <tr style=\"text-align: right;\">\n",
       "      <th></th>\n",
       "      <th>country</th>\n",
       "      <th>timestamp</th>\n",
       "      <th>group</th>\n",
       "      <th>landing_page</th>\n",
       "      <th>converted</th>\n",
       "      <th>treatment</th>\n",
       "      <th>newPg</th>\n",
       "      <th>oldPg</th>\n",
       "      <th>intercept</th>\n",
       "      <th>ab_page</th>\n",
       "    </tr>\n",
       "    <tr>\n",
       "      <th>user_id</th>\n",
       "      <th></th>\n",
       "      <th></th>\n",
       "      <th></th>\n",
       "      <th></th>\n",
       "      <th></th>\n",
       "      <th></th>\n",
       "      <th></th>\n",
       "      <th></th>\n",
       "      <th></th>\n",
       "      <th></th>\n",
       "    </tr>\n",
       "  </thead>\n",
       "  <tbody>\n",
       "    <tr>\n",
       "      <th>791020</th>\n",
       "      <td>US</td>\n",
       "      <td>2017-01-24 12:23:15.260909</td>\n",
       "      <td>control</td>\n",
       "      <td>old_page</td>\n",
       "      <td>0</td>\n",
       "      <td>0</td>\n",
       "      <td>0</td>\n",
       "      <td>1</td>\n",
       "      <td>1</td>\n",
       "      <td>0</td>\n",
       "    </tr>\n",
       "  </tbody>\n",
       "</table>\n",
       "</div>"
      ],
      "text/plain": [
       "        country                   timestamp    group landing_page  converted  \\\n",
       "user_id                                                                        \n",
       "791020       US  2017-01-24 12:23:15.260909  control     old_page          0   \n",
       "\n",
       "         treatment  newPg  oldPg  intercept  ab_page  \n",
       "user_id                                               \n",
       "791020           0      0      1          1        0  "
      ]
     },
     "execution_count": 50,
     "metadata": {},
     "output_type": "execute_result"
    }
   ],
   "source": [
    "countries_df = pd.read_csv('./countries.csv')\n",
    "df_new = countries_df.set_index('user_id').join(df2.set_index('user_id'), how='inner')\n",
    "df_new.sample(1)"
   ]
  },
  {
   "cell_type": "code",
   "execution_count": 51,
   "metadata": {},
   "outputs": [
    {
     "data": {
      "text/html": [
       "<div>\n",
       "<style scoped>\n",
       "    .dataframe tbody tr th:only-of-type {\n",
       "        vertical-align: middle;\n",
       "    }\n",
       "\n",
       "    .dataframe tbody tr th {\n",
       "        vertical-align: top;\n",
       "    }\n",
       "\n",
       "    .dataframe thead th {\n",
       "        text-align: right;\n",
       "    }\n",
       "</style>\n",
       "<table border=\"1\" class=\"dataframe\">\n",
       "  <thead>\n",
       "    <tr style=\"text-align: right;\">\n",
       "      <th></th>\n",
       "      <th>country</th>\n",
       "      <th>timestamp</th>\n",
       "      <th>group</th>\n",
       "      <th>landing_page</th>\n",
       "      <th>converted</th>\n",
       "      <th>treatment</th>\n",
       "      <th>newPg</th>\n",
       "      <th>oldPg</th>\n",
       "      <th>intercept</th>\n",
       "      <th>ab_page</th>\n",
       "      <th>CA</th>\n",
       "      <th>UK</th>\n",
       "      <th>US</th>\n",
       "    </tr>\n",
       "    <tr>\n",
       "      <th>user_id</th>\n",
       "      <th></th>\n",
       "      <th></th>\n",
       "      <th></th>\n",
       "      <th></th>\n",
       "      <th></th>\n",
       "      <th></th>\n",
       "      <th></th>\n",
       "      <th></th>\n",
       "      <th></th>\n",
       "      <th></th>\n",
       "      <th></th>\n",
       "      <th></th>\n",
       "      <th></th>\n",
       "    </tr>\n",
       "  </thead>\n",
       "  <tbody>\n",
       "    <tr>\n",
       "      <th>916204</th>\n",
       "      <td>UK</td>\n",
       "      <td>2017-01-08 02:56:14.309873</td>\n",
       "      <td>treatment</td>\n",
       "      <td>new_page</td>\n",
       "      <td>1</td>\n",
       "      <td>1</td>\n",
       "      <td>1</td>\n",
       "      <td>0</td>\n",
       "      <td>1</td>\n",
       "      <td>1</td>\n",
       "      <td>0</td>\n",
       "      <td>1</td>\n",
       "      <td>0</td>\n",
       "    </tr>\n",
       "    <tr>\n",
       "      <th>839542</th>\n",
       "      <td>UK</td>\n",
       "      <td>2017-01-15 23:38:16.481266</td>\n",
       "      <td>control</td>\n",
       "      <td>old_page</td>\n",
       "      <td>0</td>\n",
       "      <td>0</td>\n",
       "      <td>0</td>\n",
       "      <td>1</td>\n",
       "      <td>1</td>\n",
       "      <td>0</td>\n",
       "      <td>0</td>\n",
       "      <td>1</td>\n",
       "      <td>0</td>\n",
       "    </tr>\n",
       "    <tr>\n",
       "      <th>733941</th>\n",
       "      <td>UK</td>\n",
       "      <td>2017-01-10 02:46:04.705080</td>\n",
       "      <td>control</td>\n",
       "      <td>old_page</td>\n",
       "      <td>0</td>\n",
       "      <td>0</td>\n",
       "      <td>0</td>\n",
       "      <td>1</td>\n",
       "      <td>1</td>\n",
       "      <td>0</td>\n",
       "      <td>0</td>\n",
       "      <td>1</td>\n",
       "      <td>0</td>\n",
       "    </tr>\n",
       "  </tbody>\n",
       "</table>\n",
       "</div>"
      ],
      "text/plain": [
       "        country                   timestamp      group landing_page  \\\n",
       "user_id                                                               \n",
       "916204       UK  2017-01-08 02:56:14.309873  treatment     new_page   \n",
       "839542       UK  2017-01-15 23:38:16.481266    control     old_page   \n",
       "733941       UK  2017-01-10 02:46:04.705080    control     old_page   \n",
       "\n",
       "         converted  treatment  newPg  oldPg  intercept  ab_page  CA  UK  US  \n",
       "user_id                                                                      \n",
       "916204           1          1      1      0          1        1   0   1   0  \n",
       "839542           0          0      0      1          1        0   0   1   0  \n",
       "733941           0          0      0      1          1        0   0   1   0  "
      ]
     },
     "execution_count": 51,
     "metadata": {},
     "output_type": "execute_result"
    }
   ],
   "source": [
    "### Create the necessary dummy variables\n",
    "df_new[['CA','UK','US']]=pd.get_dummies(df_new['country'])\n",
    "df_new.sample(3)"
   ]
  },
  {
   "cell_type": "markdown",
   "metadata": {},
   "source": [
    "h. Though you have now looked at the individual factors of country and page on conversion, we would now like to look at an interaction between page and country to see if there significant effects on conversion.  Create the necessary additional columns, and fit the new model.  \n",
    "\n",
    "Provide the summary results, and your conclusions based on the results."
   ]
  },
  {
   "cell_type": "code",
   "execution_count": 52,
   "metadata": {},
   "outputs": [
    {
     "name": "stdout",
     "output_type": "stream",
     "text": [
      "Optimization terminated successfully.\n",
      "         Current function value: 0.366116\n",
      "         Iterations 6\n"
     ]
    },
    {
     "data": {
      "text/html": [
       "<table class=\"simpletable\">\n",
       "<caption>Logit Regression Results</caption>\n",
       "<tr>\n",
       "  <th>Dep. Variable:</th>     <td>converted</td>    <th>  No. Observations:  </th>   <td>290584</td>   \n",
       "</tr>\n",
       "<tr>\n",
       "  <th>Model:</th>               <td>Logit</td>      <th>  Df Residuals:      </th>   <td>290581</td>   \n",
       "</tr>\n",
       "<tr>\n",
       "  <th>Method:</th>               <td>MLE</td>       <th>  Df Model:          </th>   <td>     2</td>   \n",
       "</tr>\n",
       "<tr>\n",
       "  <th>Date:</th>          <td>Mon, 13 May 2019</td> <th>  Pseudo R-squ.:     </th>  <td>1.521e-05</td> \n",
       "</tr>\n",
       "<tr>\n",
       "  <th>Time:</th>              <td>14:53:29</td>     <th>  Log-Likelihood:    </th> <td>-1.0639e+05</td>\n",
       "</tr>\n",
       "<tr>\n",
       "  <th>converged:</th>           <td>True</td>       <th>  LL-Null:           </th> <td>-1.0639e+05</td>\n",
       "</tr>\n",
       "<tr>\n",
       "  <th> </th>                      <td> </td>        <th>  LLR p-value:       </th>   <td>0.1984</td>   \n",
       "</tr>\n",
       "</table>\n",
       "<table class=\"simpletable\">\n",
       "<tr>\n",
       "      <td></td>         <th>coef</th>     <th>std err</th>      <th>z</th>      <th>P>|z|</th>  <th>[0.025</th>    <th>0.975]</th>  \n",
       "</tr>\n",
       "<tr>\n",
       "  <th>intercept</th> <td>   -1.9868</td> <td>    0.011</td> <td> -174.174</td> <td> 0.000</td> <td>   -2.009</td> <td>   -1.964</td>\n",
       "</tr>\n",
       "<tr>\n",
       "  <th>US</th>        <td>   -0.0099</td> <td>    0.013</td> <td>   -0.746</td> <td> 0.456</td> <td>   -0.036</td> <td>    0.016</td>\n",
       "</tr>\n",
       "<tr>\n",
       "  <th>CA</th>        <td>   -0.0507</td> <td>    0.028</td> <td>   -1.786</td> <td> 0.074</td> <td>   -0.106</td> <td>    0.005</td>\n",
       "</tr>\n",
       "</table>"
      ],
      "text/plain": [
       "<class 'statsmodels.iolib.summary.Summary'>\n",
       "\"\"\"\n",
       "                           Logit Regression Results                           \n",
       "==============================================================================\n",
       "Dep. Variable:              converted   No. Observations:               290584\n",
       "Model:                          Logit   Df Residuals:                   290581\n",
       "Method:                           MLE   Df Model:                            2\n",
       "Date:                Mon, 13 May 2019   Pseudo R-squ.:               1.521e-05\n",
       "Time:                        14:53:29   Log-Likelihood:            -1.0639e+05\n",
       "converged:                       True   LL-Null:                   -1.0639e+05\n",
       "                                        LLR p-value:                    0.1984\n",
       "==============================================================================\n",
       "                 coef    std err          z      P>|z|      [0.025      0.975]\n",
       "------------------------------------------------------------------------------\n",
       "intercept     -1.9868      0.011   -174.174      0.000      -2.009      -1.964\n",
       "US            -0.0099      0.013     -0.746      0.456      -0.036       0.016\n",
       "CA            -0.0507      0.028     -1.786      0.074      -0.106       0.005\n",
       "==============================================================================\n",
       "\"\"\""
      ]
     },
     "execution_count": 52,
     "metadata": {},
     "output_type": "execute_result"
    }
   ],
   "source": [
    "### Fit Your Linear Model And Obtain the Results\n",
    "mod = sm.Logit(df_new['converted'], df_new[['intercept', 'US', 'CA']])\n",
    "mod.fit().summary()"
   ]
  },
  {
   "cell_type": "markdown",
   "metadata": {},
   "source": [
    "<a id='conclusions'></a>\n",
    "## Conclusions\n",
    "\n",
    ">From above we see that the p-value is higher in US than in Canada, which means that users in the US are more likely to convert, but still not enough evidence to reject the null hypothesis.\n"
   ]
  },
  {
   "cell_type": "markdown",
   "metadata": {},
   "source": [
    "**Souces of reference**\n",
    ">https://www.statsmodels.org/devel/generated/statsmodels.stats.proportion.proportions_ztest.html\n",
    ">http://resources.esri.com/help/9.3/arcgisdesktop/com/gp_toolref/spatial_statistics_toolbox/what_is_a_z_score_what_is_a_p_value.htm\n",
    ">https://www.dummies.com/education/math/statistics/what-a-p-value-tells-you-about-statistical-data/"
   ]
  }
 ],
 "metadata": {
  "kernelspec": {
   "display_name": "Python 3",
   "language": "python",
   "name": "python3"
  },
  "language_info": {
   "codemirror_mode": {
    "name": "ipython",
    "version": 3
   },
   "file_extension": ".py",
   "mimetype": "text/x-python",
   "name": "python",
   "nbconvert_exporter": "python",
   "pygments_lexer": "ipython3",
   "version": "3.7.0"
  }
 },
 "nbformat": 4,
 "nbformat_minor": 2
}
